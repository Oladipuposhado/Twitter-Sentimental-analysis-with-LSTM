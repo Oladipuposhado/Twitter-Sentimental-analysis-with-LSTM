{
  "nbformat": 4,
  "nbformat_minor": 0,
  "metadata": {
    "colab": {
      "provenance": [],
      "gpuType": "T4"
    },
    "kernelspec": {
      "name": "python3",
      "display_name": "Python 3"
    },
    "language_info": {
      "name": "python"
    },
    "accelerator": "GPU"
  },
  "cells": [
    {
      "cell_type": "code",
      "execution_count": null,
      "metadata": {
        "colab": {
          "base_uri": "https://localhost:8080/"
        },
        "id": "gKHHBKTbjB2X",
        "outputId": "d609255c-1baa-478a-fc29-0038711eea69"
      },
      "outputs": [
        {
          "output_type": "stream",
          "name": "stdout",
          "text": [
            "Mounted at /content/drive\n"
          ]
        }
      ],
      "source": [
        "from google.colab import drive\n",
        "drive.mount('/content/drive')"
      ]
    },
    {
      "cell_type": "code",
      "source": [
        "import pandas as pd\n",
        "import numpy as np\n",
        "import matplotlib.pyplot as plt\n",
        "import seaborn as sns\n",
        "import nltk\n",
        "nltk.download('stopwords')\n",
        "from tensorflow.keras.preprocessing.text import Tokenizer\n",
        "from tensorflow.keras.preprocessing.sequence import pad_sequences\n",
        "from nltk.corpus import stopwords\n",
        "from tensorflow.keras.models import Model\n",
        "from tensorflow.keras.layers import Input, GlobalMaxPooling1D, Embedding, LSTM, Dense\n",
        "import tensorflow as tf\n",
        "from sklearn.metrics import classification_report, confusion_matrix\n",
        "from sklearn.model_selection import train_test_split\n",
        "import string\n",
        "import re\n",
        "from nltk.stem import WordNetLemmatizer\n",
        "from sklearn.model_selection import train_test_split\n"
      ],
      "metadata": {
        "colab": {
          "base_uri": "https://localhost:8080/"
        },
        "id": "sPUJShoEktP2",
        "outputId": "bea3a178-67b7-4665-82bf-c5de33717d5d"
      },
      "execution_count": null,
      "outputs": [
        {
          "output_type": "stream",
          "name": "stderr",
          "text": [
            "[nltk_data] Downloading package stopwords to /root/nltk_data...\n",
            "[nltk_data]   Package stopwords is already up-to-date!\n"
          ]
        }
      ]
    },
    {
      "cell_type": "markdown",
      "source": [],
      "metadata": {
        "id": "v7cjyRW0mKLC"
      }
    },
    {
      "cell_type": "code",
      "source": [
        "\n",
        "df_1 = pd.read_csv('/content/drive/MyDrive/DATASETS/Twitter_Data.csv')\n",
        "df_2 = pd.read_csv('/content/drive/MyDrive/DATASETS/Reddit_Data.csv')\n",
        "df_2.head()"
      ],
      "metadata": {
        "colab": {
          "base_uri": "https://localhost:8080/",
          "height": 206
        },
        "id": "q53UFsfUl55J",
        "outputId": "4b70b1db-fc3c-4585-a3fc-157dec716554"
      },
      "execution_count": null,
      "outputs": [
        {
          "output_type": "execute_result",
          "data": {
            "text/plain": [
              "                                       clean_comment  category\n",
              "0   family mormon have never tried explain them t...         1\n",
              "1  buddhism has very much lot compatible with chr...         1\n",
              "2  seriously don say thing first all they won get...        -1\n",
              "3  what you have learned yours and only yours wha...         0\n",
              "4  for your own benefit you may want read living ...         1"
            ],
            "text/html": [
              "\n",
              "  <div id=\"df-a216ef78-2990-4ae9-99dd-add0ce5e6c7d\" class=\"colab-df-container\">\n",
              "    <div>\n",
              "<style scoped>\n",
              "    .dataframe tbody tr th:only-of-type {\n",
              "        vertical-align: middle;\n",
              "    }\n",
              "\n",
              "    .dataframe tbody tr th {\n",
              "        vertical-align: top;\n",
              "    }\n",
              "\n",
              "    .dataframe thead th {\n",
              "        text-align: right;\n",
              "    }\n",
              "</style>\n",
              "<table border=\"1\" class=\"dataframe\">\n",
              "  <thead>\n",
              "    <tr style=\"text-align: right;\">\n",
              "      <th></th>\n",
              "      <th>clean_comment</th>\n",
              "      <th>category</th>\n",
              "    </tr>\n",
              "  </thead>\n",
              "  <tbody>\n",
              "    <tr>\n",
              "      <th>0</th>\n",
              "      <td>family mormon have never tried explain them t...</td>\n",
              "      <td>1</td>\n",
              "    </tr>\n",
              "    <tr>\n",
              "      <th>1</th>\n",
              "      <td>buddhism has very much lot compatible with chr...</td>\n",
              "      <td>1</td>\n",
              "    </tr>\n",
              "    <tr>\n",
              "      <th>2</th>\n",
              "      <td>seriously don say thing first all they won get...</td>\n",
              "      <td>-1</td>\n",
              "    </tr>\n",
              "    <tr>\n",
              "      <th>3</th>\n",
              "      <td>what you have learned yours and only yours wha...</td>\n",
              "      <td>0</td>\n",
              "    </tr>\n",
              "    <tr>\n",
              "      <th>4</th>\n",
              "      <td>for your own benefit you may want read living ...</td>\n",
              "      <td>1</td>\n",
              "    </tr>\n",
              "  </tbody>\n",
              "</table>\n",
              "</div>\n",
              "    <div class=\"colab-df-buttons\">\n",
              "\n",
              "  <div class=\"colab-df-container\">\n",
              "    <button class=\"colab-df-convert\" onclick=\"convertToInteractive('df-a216ef78-2990-4ae9-99dd-add0ce5e6c7d')\"\n",
              "            title=\"Convert this dataframe to an interactive table.\"\n",
              "            style=\"display:none;\">\n",
              "\n",
              "  <svg xmlns=\"http://www.w3.org/2000/svg\" height=\"24px\" viewBox=\"0 -960 960 960\">\n",
              "    <path d=\"M120-120v-720h720v720H120Zm60-500h600v-160H180v160Zm220 220h160v-160H400v160Zm0 220h160v-160H400v160ZM180-400h160v-160H180v160Zm440 0h160v-160H620v160ZM180-180h160v-160H180v160Zm440 0h160v-160H620v160Z\"/>\n",
              "  </svg>\n",
              "    </button>\n",
              "\n",
              "  <style>\n",
              "    .colab-df-container {\n",
              "      display:flex;\n",
              "      gap: 12px;\n",
              "    }\n",
              "\n",
              "    .colab-df-convert {\n",
              "      background-color: #E8F0FE;\n",
              "      border: none;\n",
              "      border-radius: 50%;\n",
              "      cursor: pointer;\n",
              "      display: none;\n",
              "      fill: #1967D2;\n",
              "      height: 32px;\n",
              "      padding: 0 0 0 0;\n",
              "      width: 32px;\n",
              "    }\n",
              "\n",
              "    .colab-df-convert:hover {\n",
              "      background-color: #E2EBFA;\n",
              "      box-shadow: 0px 1px 2px rgba(60, 64, 67, 0.3), 0px 1px 3px 1px rgba(60, 64, 67, 0.15);\n",
              "      fill: #174EA6;\n",
              "    }\n",
              "\n",
              "    .colab-df-buttons div {\n",
              "      margin-bottom: 4px;\n",
              "    }\n",
              "\n",
              "    [theme=dark] .colab-df-convert {\n",
              "      background-color: #3B4455;\n",
              "      fill: #D2E3FC;\n",
              "    }\n",
              "\n",
              "    [theme=dark] .colab-df-convert:hover {\n",
              "      background-color: #434B5C;\n",
              "      box-shadow: 0px 1px 3px 1px rgba(0, 0, 0, 0.15);\n",
              "      filter: drop-shadow(0px 1px 2px rgba(0, 0, 0, 0.3));\n",
              "      fill: #FFFFFF;\n",
              "    }\n",
              "  </style>\n",
              "\n",
              "    <script>\n",
              "      const buttonEl =\n",
              "        document.querySelector('#df-a216ef78-2990-4ae9-99dd-add0ce5e6c7d button.colab-df-convert');\n",
              "      buttonEl.style.display =\n",
              "        google.colab.kernel.accessAllowed ? 'block' : 'none';\n",
              "\n",
              "      async function convertToInteractive(key) {\n",
              "        const element = document.querySelector('#df-a216ef78-2990-4ae9-99dd-add0ce5e6c7d');\n",
              "        const dataTable =\n",
              "          await google.colab.kernel.invokeFunction('convertToInteractive',\n",
              "                                                    [key], {});\n",
              "        if (!dataTable) return;\n",
              "\n",
              "        const docLinkHtml = 'Like what you see? Visit the ' +\n",
              "          '<a target=\"_blank\" href=https://colab.research.google.com/notebooks/data_table.ipynb>data table notebook</a>'\n",
              "          + ' to learn more about interactive tables.';\n",
              "        element.innerHTML = '';\n",
              "        dataTable['output_type'] = 'display_data';\n",
              "        await google.colab.output.renderOutput(dataTable, element);\n",
              "        const docLink = document.createElement('div');\n",
              "        docLink.innerHTML = docLinkHtml;\n",
              "        element.appendChild(docLink);\n",
              "      }\n",
              "    </script>\n",
              "  </div>\n",
              "\n",
              "\n",
              "<div id=\"df-9a120a57-8939-4b06-b077-55f46083a186\">\n",
              "  <button class=\"colab-df-quickchart\" onclick=\"quickchart('df-9a120a57-8939-4b06-b077-55f46083a186')\"\n",
              "            title=\"Suggest charts\"\n",
              "            style=\"display:none;\">\n",
              "\n",
              "<svg xmlns=\"http://www.w3.org/2000/svg\" height=\"24px\"viewBox=\"0 0 24 24\"\n",
              "     width=\"24px\">\n",
              "    <g>\n",
              "        <path d=\"M19 3H5c-1.1 0-2 .9-2 2v14c0 1.1.9 2 2 2h14c1.1 0 2-.9 2-2V5c0-1.1-.9-2-2-2zM9 17H7v-7h2v7zm4 0h-2V7h2v10zm4 0h-2v-4h2v4z\"/>\n",
              "    </g>\n",
              "</svg>\n",
              "  </button>\n",
              "\n",
              "<style>\n",
              "  .colab-df-quickchart {\n",
              "      --bg-color: #E8F0FE;\n",
              "      --fill-color: #1967D2;\n",
              "      --hover-bg-color: #E2EBFA;\n",
              "      --hover-fill-color: #174EA6;\n",
              "      --disabled-fill-color: #AAA;\n",
              "      --disabled-bg-color: #DDD;\n",
              "  }\n",
              "\n",
              "  [theme=dark] .colab-df-quickchart {\n",
              "      --bg-color: #3B4455;\n",
              "      --fill-color: #D2E3FC;\n",
              "      --hover-bg-color: #434B5C;\n",
              "      --hover-fill-color: #FFFFFF;\n",
              "      --disabled-bg-color: #3B4455;\n",
              "      --disabled-fill-color: #666;\n",
              "  }\n",
              "\n",
              "  .colab-df-quickchart {\n",
              "    background-color: var(--bg-color);\n",
              "    border: none;\n",
              "    border-radius: 50%;\n",
              "    cursor: pointer;\n",
              "    display: none;\n",
              "    fill: var(--fill-color);\n",
              "    height: 32px;\n",
              "    padding: 0;\n",
              "    width: 32px;\n",
              "  }\n",
              "\n",
              "  .colab-df-quickchart:hover {\n",
              "    background-color: var(--hover-bg-color);\n",
              "    box-shadow: 0 1px 2px rgba(60, 64, 67, 0.3), 0 1px 3px 1px rgba(60, 64, 67, 0.15);\n",
              "    fill: var(--button-hover-fill-color);\n",
              "  }\n",
              "\n",
              "  .colab-df-quickchart-complete:disabled,\n",
              "  .colab-df-quickchart-complete:disabled:hover {\n",
              "    background-color: var(--disabled-bg-color);\n",
              "    fill: var(--disabled-fill-color);\n",
              "    box-shadow: none;\n",
              "  }\n",
              "\n",
              "  .colab-df-spinner {\n",
              "    border: 2px solid var(--fill-color);\n",
              "    border-color: transparent;\n",
              "    border-bottom-color: var(--fill-color);\n",
              "    animation:\n",
              "      spin 1s steps(1) infinite;\n",
              "  }\n",
              "\n",
              "  @keyframes spin {\n",
              "    0% {\n",
              "      border-color: transparent;\n",
              "      border-bottom-color: var(--fill-color);\n",
              "      border-left-color: var(--fill-color);\n",
              "    }\n",
              "    20% {\n",
              "      border-color: transparent;\n",
              "      border-left-color: var(--fill-color);\n",
              "      border-top-color: var(--fill-color);\n",
              "    }\n",
              "    30% {\n",
              "      border-color: transparent;\n",
              "      border-left-color: var(--fill-color);\n",
              "      border-top-color: var(--fill-color);\n",
              "      border-right-color: var(--fill-color);\n",
              "    }\n",
              "    40% {\n",
              "      border-color: transparent;\n",
              "      border-right-color: var(--fill-color);\n",
              "      border-top-color: var(--fill-color);\n",
              "    }\n",
              "    60% {\n",
              "      border-color: transparent;\n",
              "      border-right-color: var(--fill-color);\n",
              "    }\n",
              "    80% {\n",
              "      border-color: transparent;\n",
              "      border-right-color: var(--fill-color);\n",
              "      border-bottom-color: var(--fill-color);\n",
              "    }\n",
              "    90% {\n",
              "      border-color: transparent;\n",
              "      border-bottom-color: var(--fill-color);\n",
              "    }\n",
              "  }\n",
              "</style>\n",
              "\n",
              "  <script>\n",
              "    async function quickchart(key) {\n",
              "      const quickchartButtonEl =\n",
              "        document.querySelector('#' + key + ' button');\n",
              "      quickchartButtonEl.disabled = true;  // To prevent multiple clicks.\n",
              "      quickchartButtonEl.classList.add('colab-df-spinner');\n",
              "      try {\n",
              "        const charts = await google.colab.kernel.invokeFunction(\n",
              "            'suggestCharts', [key], {});\n",
              "      } catch (error) {\n",
              "        console.error('Error during call to suggestCharts:', error);\n",
              "      }\n",
              "      quickchartButtonEl.classList.remove('colab-df-spinner');\n",
              "      quickchartButtonEl.classList.add('colab-df-quickchart-complete');\n",
              "    }\n",
              "    (() => {\n",
              "      let quickchartButtonEl =\n",
              "        document.querySelector('#df-9a120a57-8939-4b06-b077-55f46083a186 button');\n",
              "      quickchartButtonEl.style.display =\n",
              "        google.colab.kernel.accessAllowed ? 'block' : 'none';\n",
              "    })();\n",
              "  </script>\n",
              "</div>\n",
              "\n",
              "    </div>\n",
              "  </div>\n"
            ],
            "application/vnd.google.colaboratory.intrinsic+json": {
              "type": "dataframe",
              "variable_name": "df_2",
              "summary": "{\n  \"name\": \"df_2\",\n  \"rows\": 37249,\n  \"fields\": [\n    {\n      \"column\": \"clean_comment\",\n      \"properties\": {\n        \"dtype\": \"string\",\n        \"num_unique_values\": 36799,\n        \"samples\": [\n          \" course yes sir you are right should vote the current government back into power because they clearly more than one man \",\n          \"brought this with some right wingers one time they proceed link multiple articles that said these deaths were not due demonetization\",\n          \"please let know missed any information add the text part will about organizations working towards protecting privacy about the ongoing case regarding right privacy and the governments response \"\n        ],\n        \"semantic_type\": \"\",\n        \"description\": \"\"\n      }\n    },\n    {\n      \"column\": \"category\",\n      \"properties\": {\n        \"dtype\": \"number\",\n        \"std\": 0,\n        \"min\": -1,\n        \"max\": 1,\n        \"num_unique_values\": 3,\n        \"samples\": [\n          1,\n          -1,\n          0\n        ],\n        \"semantic_type\": \"\",\n        \"description\": \"\"\n      }\n    }\n  ]\n}"
            }
          },
          "metadata": {},
          "execution_count": 6
        }
      ]
    },
    {
      "cell_type": "code",
      "source": [],
      "metadata": {
        "id": "ZdIt2bF2zmWW"
      },
      "execution_count": null,
      "outputs": []
    },
    {
      "cell_type": "code",
      "source": [
        "# prompt: Using dataframe df_2:\n",
        "\n",
        "# Create a bar chart showing the count of comments in each category\n",
        "df_2['category'].value_counts().plot(kind='bar')\n"
      ],
      "metadata": {
        "id": "MfSHU-qUtdcT",
        "colab": {
          "base_uri": "https://localhost:8080/",
          "height": 466
        },
        "outputId": "539007c6-38a9-4f71-8812-0a0771210f74"
      },
      "execution_count": null,
      "outputs": [
        {
          "output_type": "execute_result",
          "data": {
            "text/plain": [
              "<Axes: xlabel='category'>"
            ]
          },
          "metadata": {},
          "execution_count": 7
        },
        {
          "output_type": "display_data",
          "data": {
            "text/plain": [
              "<Figure size 640x480 with 1 Axes>"
            ],
            "image/png": "[encoded data removed]"
          },
          "metadata": {}
        }
      ]
    },
    {
      "cell_type": "code",
      "source": [
        "df_1.columns = ['message', 'label']\n",
        "df_2.columns = ['message', 'label']"
      ],
      "metadata": {
        "id": "VphX3OajmP_c"
      },
      "execution_count": null,
      "outputs": []
    },
    {
      "cell_type": "code",
      "source": [
        "df = pd.concat([df_1, df_2], ignore_index =True)\n",
        "df.head(5)"
      ],
      "metadata": {
        "id": "CEgfBmTro5Ps",
        "colab": {
          "base_uri": "https://localhost:8080/",
          "height": 206
        },
        "outputId": "57e5f6b3-39de-459e-fc2d-ba161f8462fc"
      },
      "execution_count": null,
      "outputs": [
        {
          "output_type": "execute_result",
          "data": {
            "text/plain": [
              "                                             message  label\n",
              "0  when modi promised “minimum government maximum...   -1.0\n",
              "1  talk all the nonsense and continue all the dra...    0.0\n",
              "2  what did just say vote for modi  welcome bjp t...    1.0\n",
              "3  asking his supporters prefix chowkidar their n...    1.0\n",
              "4  answer who among these the most powerful world...    1.0"
            ],
            "text/html": [
              "\n",
              "  <div id=\"df-fcb761e1-a236-487d-ad32-50bf5180e07d\" class=\"colab-df-container\">\n",
              "    <div>\n",
              "<style scoped>\n",
              "    .dataframe tbody tr th:only-of-type {\n",
              "        vertical-align: middle;\n",
              "    }\n",
              "\n",
              "    .dataframe tbody tr th {\n",
              "        vertical-align: top;\n",
              "    }\n",
              "\n",
              "    .dataframe thead th {\n",
              "        text-align: right;\n",
              "    }\n",
              "</style>\n",
              "<table border=\"1\" class=\"dataframe\">\n",
              "  <thead>\n",
              "    <tr style=\"text-align: right;\">\n",
              "      <th></th>\n",
              "      <th>message</th>\n",
              "      <th>label</th>\n",
              "    </tr>\n",
              "  </thead>\n",
              "  <tbody>\n",
              "    <tr>\n",
              "      <th>0</th>\n",
              "      <td>when modi promised “minimum government maximum...</td>\n",
              "      <td>-1.0</td>\n",
              "    </tr>\n",
              "    <tr>\n",
              "      <th>1</th>\n",
              "      <td>talk all the nonsense and continue all the dra...</td>\n",
              "      <td>0.0</td>\n",
              "    </tr>\n",
              "    <tr>\n",
              "      <th>2</th>\n",
              "      <td>what did just say vote for modi  welcome bjp t...</td>\n",
              "      <td>1.0</td>\n",
              "    </tr>\n",
              "    <tr>\n",
              "      <th>3</th>\n",
              "      <td>asking his supporters prefix chowkidar their n...</td>\n",
              "      <td>1.0</td>\n",
              "    </tr>\n",
              "    <tr>\n",
              "      <th>4</th>\n",
              "      <td>answer who among these the most powerful world...</td>\n",
              "      <td>1.0</td>\n",
              "    </tr>\n",
              "  </tbody>\n",
              "</table>\n",
              "</div>\n",
              "    <div class=\"colab-df-buttons\">\n",
              "\n",
              "  <div class=\"colab-df-container\">\n",
              "    <button class=\"colab-df-convert\" onclick=\"convertToInteractive('df-fcb761e1-a236-487d-ad32-50bf5180e07d')\"\n",
              "            title=\"Convert this dataframe to an interactive table.\"\n",
              "            style=\"display:none;\">\n",
              "\n",
              "  <svg xmlns=\"http://www.w3.org/2000/svg\" height=\"24px\" viewBox=\"0 -960 960 960\">\n",
              "    <path d=\"M120-120v-720h720v720H120Zm60-500h600v-160H180v160Zm220 220h160v-160H400v160Zm0 220h160v-160H400v160ZM180-400h160v-160H180v160Zm440 0h160v-160H620v160ZM180-180h160v-160H180v160Zm440 0h160v-160H620v160Z\"/>\n",
              "  </svg>\n",
              "    </button>\n",
              "\n",
              "  <style>\n",
              "    .colab-df-container {\n",
              "      display:flex;\n",
              "      gap: 12px;\n",
              "    }\n",
              "\n",
              "    .colab-df-convert {\n",
              "      background-color: #E8F0FE;\n",
              "      border: none;\n",
              "      border-radius: 50%;\n",
              "      cursor: pointer;\n",
              "      display: none;\n",
              "      fill: #1967D2;\n",
              "      height: 32px;\n",
              "      padding: 0 0 0 0;\n",
              "      width: 32px;\n",
              "    }\n",
              "\n",
              "    .colab-df-convert:hover {\n",
              "      background-color: #E2EBFA;\n",
              "      box-shadow: 0px 1px 2px rgba(60, 64, 67, 0.3), 0px 1px 3px 1px rgba(60, 64, 67, 0.15);\n",
              "      fill: #174EA6;\n",
              "    }\n",
              "\n",
              "    .colab-df-buttons div {\n",
              "      margin-bottom: 4px;\n",
              "    }\n",
              "\n",
              "    [theme=dark] .colab-df-convert {\n",
              "      background-color: #3B4455;\n",
              "      fill: #D2E3FC;\n",
              "    }\n",
              "\n",
              "    [theme=dark] .colab-df-convert:hover {\n",
              "      background-color: #434B5C;\n",
              "      box-shadow: 0px 1px 3px 1px rgba(0, 0, 0, 0.15);\n",
              "      filter: drop-shadow(0px 1px 2px rgba(0, 0, 0, 0.3));\n",
              "      fill: #FFFFFF;\n",
              "    }\n",
              "  </style>\n",
              "\n",
              "    <script>\n",
              "      const buttonEl =\n",
              "        document.querySelector('#df-fcb761e1-a236-487d-ad32-50bf5180e07d button.colab-df-convert');\n",
              "      buttonEl.style.display =\n",
              "        google.colab.kernel.accessAllowed ? 'block' : 'none';\n",
              "\n",
              "      async function convertToInteractive(key) {\n",
              "        const element = document.querySelector('#df-fcb761e1-a236-487d-ad32-50bf5180e07d');\n",
              "        const dataTable =\n",
              "          await google.colab.kernel.invokeFunction('convertToInteractive',\n",
              "                                                    [key], {});\n",
              "        if (!dataTable) return;\n",
              "\n",
              "        const docLinkHtml = 'Like what you see? Visit the ' +\n",
              "          '<a target=\"_blank\" href=https://colab.research.google.com/notebooks/data_table.ipynb>data table notebook</a>'\n",
              "          + ' to learn more about interactive tables.';\n",
              "        element.innerHTML = '';\n",
              "        dataTable['output_type'] = 'display_data';\n",
              "        await google.colab.output.renderOutput(dataTable, element);\n",
              "        const docLink = document.createElement('div');\n",
              "        docLink.innerHTML = docLinkHtml;\n",
              "        element.appendChild(docLink);\n",
              "      }\n",
              "    </script>\n",
              "  </div>\n",
              "\n",
              "\n",
              "<div id=\"df-a88d785d-8e28-41ae-8525-dd3b5e914677\">\n",
              "  <button class=\"colab-df-quickchart\" onclick=\"quickchart('df-a88d785d-8e28-41ae-8525-dd3b5e914677')\"\n",
              "            title=\"Suggest charts\"\n",
              "            style=\"display:none;\">\n",
              "\n",
              "<svg xmlns=\"http://www.w3.org/2000/svg\" height=\"24px\"viewBox=\"0 0 24 24\"\n",
              "     width=\"24px\">\n",
              "    <g>\n",
              "        <path d=\"M19 3H5c-1.1 0-2 .9-2 2v14c0 1.1.9 2 2 2h14c1.1 0 2-.9 2-2V5c0-1.1-.9-2-2-2zM9 17H7v-7h2v7zm4 0h-2V7h2v10zm4 0h-2v-4h2v4z\"/>\n",
              "    </g>\n",
              "</svg>\n",
              "  </button>\n",
              "\n",
              "<style>\n",
              "  .colab-df-quickchart {\n",
              "      --bg-color: #E8F0FE;\n",
              "      --fill-color: #1967D2;\n",
              "      --hover-bg-color: #E2EBFA;\n",
              "      --hover-fill-color: #174EA6;\n",
              "      --disabled-fill-color: #AAA;\n",
              "      --disabled-bg-color: #DDD;\n",
              "  }\n",
              "\n",
              "  [theme=dark] .colab-df-quickchart {\n",
              "      --bg-color: #3B4455;\n",
              "      --fill-color: #D2E3FC;\n",
              "      --hover-bg-color: #434B5C;\n",
              "      --hover-fill-color: #FFFFFF;\n",
              "      --disabled-bg-color: #3B4455;\n",
              "      --disabled-fill-color: #666;\n",
              "  }\n",
              "\n",
              "  .colab-df-quickchart {\n",
              "    background-color: var(--bg-color);\n",
              "    border: none;\n",
              "    border-radius: 50%;\n",
              "    cursor: pointer;\n",
              "    display: none;\n",
              "    fill: var(--fill-color);\n",
              "    height: 32px;\n",
              "    padding: 0;\n",
              "    width: 32px;\n",
              "  }\n",
              "\n",
              "  .colab-df-quickchart:hover {\n",
              "    background-color: var(--hover-bg-color);\n",
              "    box-shadow: 0 1px 2px rgba(60, 64, 67, 0.3), 0 1px 3px 1px rgba(60, 64, 67, 0.15);\n",
              "    fill: var(--button-hover-fill-color);\n",
              "  }\n",
              "\n",
              "  .colab-df-quickchart-complete:disabled,\n",
              "  .colab-df-quickchart-complete:disabled:hover {\n",
              "    background-color: var(--disabled-bg-color);\n",
              "    fill: var(--disabled-fill-color);\n",
              "    box-shadow: none;\n",
              "  }\n",
              "\n",
              "  .colab-df-spinner {\n",
              "    border: 2px solid var(--fill-color);\n",
              "    border-color: transparent;\n",
              "    border-bottom-color: var(--fill-color);\n",
              "    animation:\n",
              "      spin 1s steps(1) infinite;\n",
              "  }\n",
              "\n",
              "  @keyframes spin {\n",
              "    0% {\n",
              "      border-color: transparent;\n",
              "      border-bottom-color: var(--fill-color);\n",
              "      border-left-color: var(--fill-color);\n",
              "    }\n",
              "    20% {\n",
              "      border-color: transparent;\n",
              "      border-left-color: var(--fill-color);\n",
              "      border-top-color: var(--fill-color);\n",
              "    }\n",
              "    30% {\n",
              "      border-color: transparent;\n",
              "      border-left-color: var(--fill-color);\n",
              "      border-top-color: var(--fill-color);\n",
              "      border-right-color: var(--fill-color);\n",
              "    }\n",
              "    40% {\n",
              "      border-color: transparent;\n",
              "      border-right-color: var(--fill-color);\n",
              "      border-top-color: var(--fill-color);\n",
              "    }\n",
              "    60% {\n",
              "      border-color: transparent;\n",
              "      border-right-color: var(--fill-color);\n",
              "    }\n",
              "    80% {\n",
              "      border-color: transparent;\n",
              "      border-right-color: var(--fill-color);\n",
              "      border-bottom-color: var(--fill-color);\n",
              "    }\n",
              "    90% {\n",
              "      border-color: transparent;\n",
              "      border-bottom-color: var(--fill-color);\n",
              "    }\n",
              "  }\n",
              "</style>\n",
              "\n",
              "  <script>\n",
              "    async function quickchart(key) {\n",
              "      const quickchartButtonEl =\n",
              "        document.querySelector('#' + key + ' button');\n",
              "      quickchartButtonEl.disabled = true;  // To prevent multiple clicks.\n",
              "      quickchartButtonEl.classList.add('colab-df-spinner');\n",
              "      try {\n",
              "        const charts = await google.colab.kernel.invokeFunction(\n",
              "            'suggestCharts', [key], {});\n",
              "      } catch (error) {\n",
              "        console.error('Error during call to suggestCharts:', error);\n",
              "      }\n",
              "      quickchartButtonEl.classList.remove('colab-df-spinner');\n",
              "      quickchartButtonEl.classList.add('colab-df-quickchart-complete');\n",
              "    }\n",
              "    (() => {\n",
              "      let quickchartButtonEl =\n",
              "        document.querySelector('#df-a88d785d-8e28-41ae-8525-dd3b5e914677 button');\n",
              "      quickchartButtonEl.style.display =\n",
              "        google.colab.kernel.accessAllowed ? 'block' : 'none';\n",
              "    })();\n",
              "  </script>\n",
              "</div>\n",
              "\n",
              "    </div>\n",
              "  </div>\n"
            ],
            "application/vnd.google.colaboratory.intrinsic+json": {
              "type": "dataframe",
              "variable_name": "df"
            }
          },
          "metadata": {},
          "execution_count": 9
        }
      ]
    },
    {
      "cell_type": "code",
      "source": [
        "df['message'].iloc[0]"
      ],
      "metadata": {
        "id": "WrGYoUmBr0qp",
        "colab": {
          "base_uri": "https://localhost:8080/",
          "height": 53
        },
        "outputId": "0dacac37-d0ab-405e-940e-afb9e8a961cf"
      },
      "execution_count": null,
      "outputs": [
        {
          "output_type": "execute_result",
          "data": {
            "text/plain": [
              "'when modi promised “minimum government maximum governance” expected him begin the difficult job reforming the state why does take years get justice state should and not business and should exit psus and temples'"
            ],
            "application/vnd.google.colaboratory.intrinsic+json": {
              "type": "string"
            }
          },
          "metadata": {},
          "execution_count": 10
        }
      ]
    },
    {
      "cell_type": "code",
      "source": [
        "df.head()"
      ],
      "metadata": {
        "colab": {
          "base_uri": "https://localhost:8080/",
          "height": 206
        },
        "id": "P_xRX1yYs_d6",
        "outputId": "56762245-bfd3-40c4-8a32-e22b496a3834"
      },
      "execution_count": null,
      "outputs": [
        {
          "output_type": "execute_result",
          "data": {
            "text/plain": [
              "                                             message  label\n",
              "0  when modi promised “minimum government maximum...   -1.0\n",
              "1  talk all the nonsense and continue all the dra...    0.0\n",
              "2  what did just say vote for modi  welcome bjp t...    1.0\n",
              "3  asking his supporters prefix chowkidar their n...    1.0\n",
              "4  answer who among these the most powerful world...    1.0"
            ],
            "text/html": [
              "\n",
              "  <div id=\"df-4dfae0eb-d5de-4794-84a1-7054764a3dba\" class=\"colab-df-container\">\n",
              "    <div>\n",
              "<style scoped>\n",
              "    .dataframe tbody tr th:only-of-type {\n",
              "        vertical-align: middle;\n",
              "    }\n",
              "\n",
              "    .dataframe tbody tr th {\n",
              "        vertical-align: top;\n",
              "    }\n",
              "\n",
              "    .dataframe thead th {\n",
              "        text-align: right;\n",
              "    }\n",
              "</style>\n",
              "<table border=\"1\" class=\"dataframe\">\n",
              "  <thead>\n",
              "    <tr style=\"text-align: right;\">\n",
              "      <th></th>\n",
              "      <th>message</th>\n",
              "      <th>label</th>\n",
              "    </tr>\n",
              "  </thead>\n",
              "  <tbody>\n",
              "    <tr>\n",
              "      <th>0</th>\n",
              "      <td>when modi promised “minimum government maximum...</td>\n",
              "      <td>-1.0</td>\n",
              "    </tr>\n",
              "    <tr>\n",
              "      <th>1</th>\n",
              "      <td>talk all the nonsense and continue all the dra...</td>\n",
              "      <td>0.0</td>\n",
              "    </tr>\n",
              "    <tr>\n",
              "      <th>2</th>\n",
              "      <td>what did just say vote for modi  welcome bjp t...</td>\n",
              "      <td>1.0</td>\n",
              "    </tr>\n",
              "    <tr>\n",
              "      <th>3</th>\n",
              "      <td>asking his supporters prefix chowkidar their n...</td>\n",
              "      <td>1.0</td>\n",
              "    </tr>\n",
              "    <tr>\n",
              "      <th>4</th>\n",
              "      <td>answer who among these the most powerful world...</td>\n",
              "      <td>1.0</td>\n",
              "    </tr>\n",
              "  </tbody>\n",
              "</table>\n",
              "</div>\n",
              "    <div class=\"colab-df-buttons\">\n",
              "\n",
              "  <div class=\"colab-df-container\">\n",
              "    <button class=\"colab-df-convert\" onclick=\"convertToInteractive('df-4dfae0eb-d5de-4794-84a1-7054764a3dba')\"\n",
              "            title=\"Convert this dataframe to an interactive table.\"\n",
              "            style=\"display:none;\">\n",
              "\n",
              "  <svg xmlns=\"http://www.w3.org/2000/svg\" height=\"24px\" viewBox=\"0 -960 960 960\">\n",
              "    <path d=\"M120-120v-720h720v720H120Zm60-500h600v-160H180v160Zm220 220h160v-160H400v160Zm0 220h160v-160H400v160ZM180-400h160v-160H180v160Zm440 0h160v-160H620v160ZM180-180h160v-160H180v160Zm440 0h160v-160H620v160Z\"/>\n",
              "  </svg>\n",
              "    </button>\n",
              "\n",
              "  <style>\n",
              "    .colab-df-container {\n",
              "      display:flex;\n",
              "      gap: 12px;\n",
              "    }\n",
              "\n",
              "    .colab-df-convert {\n",
              "      background-color: #E8F0FE;\n",
              "      border: none;\n",
              "      border-radius: 50%;\n",
              "      cursor: pointer;\n",
              "      display: none;\n",
              "      fill: #1967D2;\n",
              "      height: 32px;\n",
              "      padding: 0 0 0 0;\n",
              "      width: 32px;\n",
              "    }\n",
              "\n",
              "    .colab-df-convert:hover {\n",
              "      background-color: #E2EBFA;\n",
              "      box-shadow: 0px 1px 2px rgba(60, 64, 67, 0.3), 0px 1px 3px 1px rgba(60, 64, 67, 0.15);\n",
              "      fill: #174EA6;\n",
              "    }\n",
              "\n",
              "    .colab-df-buttons div {\n",
              "      margin-bottom: 4px;\n",
              "    }\n",
              "\n",
              "    [theme=dark] .colab-df-convert {\n",
              "      background-color: #3B4455;\n",
              "      fill: #D2E3FC;\n",
              "    }\n",
              "\n",
              "    [theme=dark] .colab-df-convert:hover {\n",
              "      background-color: #434B5C;\n",
              "      box-shadow: 0px 1px 3px 1px rgba(0, 0, 0, 0.15);\n",
              "      filter: drop-shadow(0px 1px 2px rgba(0, 0, 0, 0.3));\n",
              "      fill: #FFFFFF;\n",
              "    }\n",
              "  </style>\n",
              "\n",
              "    <script>\n",
              "      const buttonEl =\n",
              "        document.querySelector('#df-4dfae0eb-d5de-4794-84a1-7054764a3dba button.colab-df-convert');\n",
              "      buttonEl.style.display =\n",
              "        google.colab.kernel.accessAllowed ? 'block' : 'none';\n",
              "\n",
              "      async function convertToInteractive(key) {\n",
              "        const element = document.querySelector('#df-4dfae0eb-d5de-4794-84a1-7054764a3dba');\n",
              "        const dataTable =\n",
              "          await google.colab.kernel.invokeFunction('convertToInteractive',\n",
              "                                                    [key], {});\n",
              "        if (!dataTable) return;\n",
              "\n",
              "        const docLinkHtml = 'Like what you see? Visit the ' +\n",
              "          '<a target=\"_blank\" href=https://colab.research.google.com/notebooks/data_table.ipynb>data table notebook</a>'\n",
              "          + ' to learn more about interactive tables.';\n",
              "        element.innerHTML = '';\n",
              "        dataTable['output_type'] = 'display_data';\n",
              "        await google.colab.output.renderOutput(dataTable, element);\n",
              "        const docLink = document.createElement('div');\n",
              "        docLink.innerHTML = docLinkHtml;\n",
              "        element.appendChild(docLink);\n",
              "      }\n",
              "    </script>\n",
              "  </div>\n",
              "\n",
              "\n",
              "<div id=\"df-c79694a8-63da-4884-a31c-25674e804ca5\">\n",
              "  <button class=\"colab-df-quickchart\" onclick=\"quickchart('df-c79694a8-63da-4884-a31c-25674e804ca5')\"\n",
              "            title=\"Suggest charts\"\n",
              "            style=\"display:none;\">\n",
              "\n",
              "<svg xmlns=\"http://www.w3.org/2000/svg\" height=\"24px\"viewBox=\"0 0 24 24\"\n",
              "     width=\"24px\">\n",
              "    <g>\n",
              "        <path d=\"M19 3H5c-1.1 0-2 .9-2 2v14c0 1.1.9 2 2 2h14c1.1 0 2-.9 2-2V5c0-1.1-.9-2-2-2zM9 17H7v-7h2v7zm4 0h-2V7h2v10zm4 0h-2v-4h2v4z\"/>\n",
              "    </g>\n",
              "</svg>\n",
              "  </button>\n",
              "\n",
              "<style>\n",
              "  .colab-df-quickchart {\n",
              "      --bg-color: #E8F0FE;\n",
              "      --fill-color: #1967D2;\n",
              "      --hover-bg-color: #E2EBFA;\n",
              "      --hover-fill-color: #174EA6;\n",
              "      --disabled-fill-color: #AAA;\n",
              "      --disabled-bg-color: #DDD;\n",
              "  }\n",
              "\n",
              "  [theme=dark] .colab-df-quickchart {\n",
              "      --bg-color: #3B4455;\n",
              "      --fill-color: #D2E3FC;\n",
              "      --hover-bg-color: #434B5C;\n",
              "      --hover-fill-color: #FFFFFF;\n",
              "      --disabled-bg-color: #3B4455;\n",
              "      --disabled-fill-color: #666;\n",
              "  }\n",
              "\n",
              "  .colab-df-quickchart {\n",
              "    background-color: var(--bg-color);\n",
              "    border: none;\n",
              "    border-radius: 50%;\n",
              "    cursor: pointer;\n",
              "    display: none;\n",
              "    fill: var(--fill-color);\n",
              "    height: 32px;\n",
              "    padding: 0;\n",
              "    width: 32px;\n",
              "  }\n",
              "\n",
              "  .colab-df-quickchart:hover {\n",
              "    background-color: var(--hover-bg-color);\n",
              "    box-shadow: 0 1px 2px rgba(60, 64, 67, 0.3), 0 1px 3px 1px rgba(60, 64, 67, 0.15);\n",
              "    fill: var(--button-hover-fill-color);\n",
              "  }\n",
              "\n",
              "  .colab-df-quickchart-complete:disabled,\n",
              "  .colab-df-quickchart-complete:disabled:hover {\n",
              "    background-color: var(--disabled-bg-color);\n",
              "    fill: var(--disabled-fill-color);\n",
              "    box-shadow: none;\n",
              "  }\n",
              "\n",
              "  .colab-df-spinner {\n",
              "    border: 2px solid var(--fill-color);\n",
              "    border-color: transparent;\n",
              "    border-bottom-color: var(--fill-color);\n",
              "    animation:\n",
              "      spin 1s steps(1) infinite;\n",
              "  }\n",
              "\n",
              "  @keyframes spin {\n",
              "    0% {\n",
              "      border-color: transparent;\n",
              "      border-bottom-color: var(--fill-color);\n",
              "      border-left-color: var(--fill-color);\n",
              "    }\n",
              "    20% {\n",
              "      border-color: transparent;\n",
              "      border-left-color: var(--fill-color);\n",
              "      border-top-color: var(--fill-color);\n",
              "    }\n",
              "    30% {\n",
              "      border-color: transparent;\n",
              "      border-left-color: var(--fill-color);\n",
              "      border-top-color: var(--fill-color);\n",
              "      border-right-color: var(--fill-color);\n",
              "    }\n",
              "    40% {\n",
              "      border-color: transparent;\n",
              "      border-right-color: var(--fill-color);\n",
              "      border-top-color: var(--fill-color);\n",
              "    }\n",
              "    60% {\n",
              "      border-color: transparent;\n",
              "      border-right-color: var(--fill-color);\n",
              "    }\n",
              "    80% {\n",
              "      border-color: transparent;\n",
              "      border-right-color: var(--fill-color);\n",
              "      border-bottom-color: var(--fill-color);\n",
              "    }\n",
              "    90% {\n",
              "      border-color: transparent;\n",
              "      border-bottom-color: var(--fill-color);\n",
              "    }\n",
              "  }\n",
              "</style>\n",
              "\n",
              "  <script>\n",
              "    async function quickchart(key) {\n",
              "      const quickchartButtonEl =\n",
              "        document.querySelector('#' + key + ' button');\n",
              "      quickchartButtonEl.disabled = true;  // To prevent multiple clicks.\n",
              "      quickchartButtonEl.classList.add('colab-df-spinner');\n",
              "      try {\n",
              "        const charts = await google.colab.kernel.invokeFunction(\n",
              "            'suggestCharts', [key], {});\n",
              "      } catch (error) {\n",
              "        console.error('Error during call to suggestCharts:', error);\n",
              "      }\n",
              "      quickchartButtonEl.classList.remove('colab-df-spinner');\n",
              "      quickchartButtonEl.classList.add('colab-df-quickchart-complete');\n",
              "    }\n",
              "    (() => {\n",
              "      let quickchartButtonEl =\n",
              "        document.querySelector('#df-c79694a8-63da-4884-a31c-25674e804ca5 button');\n",
              "      quickchartButtonEl.style.display =\n",
              "        google.colab.kernel.accessAllowed ? 'block' : 'none';\n",
              "    })();\n",
              "  </script>\n",
              "</div>\n",
              "\n",
              "    </div>\n",
              "  </div>\n"
            ],
            "application/vnd.google.colaboratory.intrinsic+json": {
              "type": "dataframe",
              "variable_name": "df"
            }
          },
          "metadata": {},
          "execution_count": 11
        }
      ]
    },
    {
      "cell_type": "code",
      "source": [
        "df['length'] = df['message'].str.len()"
      ],
      "metadata": {
        "id": "P17j65DS2oZk"
      },
      "execution_count": null,
      "outputs": []
    },
    {
      "cell_type": "code",
      "source": [
        "df.info()"
      ],
      "metadata": {
        "colab": {
          "base_uri": "https://localhost:8080/"
        },
        "id": "jq3GizLau_KF",
        "outputId": "41e4b51e-0989-44d4-b333-acd0bb69496a"
      },
      "execution_count": null,
      "outputs": [
        {
          "output_type": "stream",
          "name": "stdout",
          "text": [
            "<class 'pandas.core.frame.DataFrame'>\n",
            "RangeIndex: 200229 entries, 0 to 200228\n",
            "Data columns (total 3 columns):\n",
            " #   Column   Non-Null Count   Dtype  \n",
            "---  ------   --------------   -----  \n",
            " 0   message  200125 non-null  object \n",
            " 1   label    200222 non-null  float64\n",
            " 2   length   200125 non-null  float64\n",
            "dtypes: float64(2), object(1)\n",
            "memory usage: 4.6+ MB\n"
          ]
        }
      ]
    },
    {
      "cell_type": "code",
      "source": [
        "sns.set_style('darkgrid')\n",
        "df['length'].plot(bins=100, kind='hist')"
      ],
      "metadata": {
        "colab": {
          "base_uri": "https://localhost:8080/",
          "height": 447
        },
        "id": "vdHuxX3EyxVM",
        "outputId": "428e1802-2bd2-4830-fb37-2247809bd0f0"
      },
      "execution_count": null,
      "outputs": [
        {
          "output_type": "execute_result",
          "data": {
            "text/plain": [
              "<Axes: ylabel='Frequency'>"
            ]
          },
          "metadata": {},
          "execution_count": 14
        },
        {
          "output_type": "display_data",
          "data": {
            "text/plain": [
              "<Figure size 640x480 with 1 Axes>"
            ],
            "image/png": "[encoded data removed]"
          },
          "metadata": {}
        }
      ]
    },
    {
      "cell_type": "code",
      "source": [
        "df.describe().transpose()"
      ],
      "metadata": {
        "id": "WVJb5r4c9Tto",
        "colab": {
          "base_uri": "https://localhost:8080/",
          "height": 112
        },
        "outputId": "7dc98ce7-9b59-4900-a8ff-418ea6d5daf4"
      },
      "execution_count": null,
      "outputs": [
        {
          "output_type": "execute_result",
          "data": {
            "text/plain": [
              "           count        mean         std  min   25%    50%    75%     max\n",
              "label   200222.0    0.221219    0.780813 -1.0   0.0    0.0    1.0     1.0\n",
              "length  200125.0  134.796737  167.639234  1.0  61.0  109.0  183.0  8665.0"
            ],
            "text/html": [
              "\n",
              "  <div id=\"df-0359bb75-69d4-4171-b808-a34461f6c2bf\" class=\"colab-df-container\">\n",
              "    <div>\n",
              "<style scoped>\n",
              "    .dataframe tbody tr th:only-of-type {\n",
              "        vertical-align: middle;\n",
              "    }\n",
              "\n",
              "    .dataframe tbody tr th {\n",
              "        vertical-align: top;\n",
              "    }\n",
              "\n",
              "    .dataframe thead th {\n",
              "        text-align: right;\n",
              "    }\n",
              "</style>\n",
              "<table border=\"1\" class=\"dataframe\">\n",
              "  <thead>\n",
              "    <tr style=\"text-align: right;\">\n",
              "      <th></th>\n",
              "      <th>count</th>\n",
              "      <th>mean</th>\n",
              "      <th>std</th>\n",
              "      <th>min</th>\n",
              "      <th>25%</th>\n",
              "      <th>50%</th>\n",
              "      <th>75%</th>\n",
              "      <th>max</th>\n",
              "    </tr>\n",
              "  </thead>\n",
              "  <tbody>\n",
              "    <tr>\n",
              "      <th>label</th>\n",
              "      <td>200222.0</td>\n",
              "      <td>0.221219</td>\n",
              "      <td>0.780813</td>\n",
              "      <td>-1.0</td>\n",
              "      <td>0.0</td>\n",
              "      <td>0.0</td>\n",
              "      <td>1.0</td>\n",
              "      <td>1.0</td>\n",
              "    </tr>\n",
              "    <tr>\n",
              "      <th>length</th>\n",
              "      <td>200125.0</td>\n",
              "      <td>134.796737</td>\n",
              "      <td>167.639234</td>\n",
              "      <td>1.0</td>\n",
              "      <td>61.0</td>\n",
              "      <td>109.0</td>\n",
              "      <td>183.0</td>\n",
              "      <td>8665.0</td>\n",
              "    </tr>\n",
              "  </tbody>\n",
              "</table>\n",
              "</div>\n",
              "    <div class=\"colab-df-buttons\">\n",
              "\n",
              "  <div class=\"colab-df-container\">\n",
              "    <button class=\"colab-df-convert\" onclick=\"convertToInteractive('df-0359bb75-69d4-4171-b808-a34461f6c2bf')\"\n",
              "            title=\"Convert this dataframe to an interactive table.\"\n",
              "            style=\"display:none;\">\n",
              "\n",
              "  <svg xmlns=\"http://www.w3.org/2000/svg\" height=\"24px\" viewBox=\"0 -960 960 960\">\n",
              "    <path d=\"M120-120v-720h720v720H120Zm60-500h600v-160H180v160Zm220 220h160v-160H400v160Zm0 220h160v-160H400v160ZM180-400h160v-160H180v160Zm440 0h160v-160H620v160ZM180-180h160v-160H180v160Zm440 0h160v-160H620v160Z\"/>\n",
              "  </svg>\n",
              "    </button>\n",
              "\n",
              "  <style>\n",
              "    .colab-df-container {\n",
              "      display:flex;\n",
              "      gap: 12px;\n",
              "    }\n",
              "\n",
              "    .colab-df-convert {\n",
              "      background-color: #E8F0FE;\n",
              "      border: none;\n",
              "      border-radius: 50%;\n",
              "      cursor: pointer;\n",
              "      display: none;\n",
              "      fill: #1967D2;\n",
              "      height: 32px;\n",
              "      padding: 0 0 0 0;\n",
              "      width: 32px;\n",
              "    }\n",
              "\n",
              "    .colab-df-convert:hover {\n",
              "      background-color: #E2EBFA;\n",
              "      box-shadow: 0px 1px 2px rgba(60, 64, 67, 0.3), 0px 1px 3px 1px rgba(60, 64, 67, 0.15);\n",
              "      fill: #174EA6;\n",
              "    }\n",
              "\n",
              "    .colab-df-buttons div {\n",
              "      margin-bottom: 4px;\n",
              "    }\n",
              "\n",
              "    [theme=dark] .colab-df-convert {\n",
              "      background-color: #3B4455;\n",
              "      fill: #D2E3FC;\n",
              "    }\n",
              "\n",
              "    [theme=dark] .colab-df-convert:hover {\n",
              "      background-color: #434B5C;\n",
              "      box-shadow: 0px 1px 3px 1px rgba(0, 0, 0, 0.15);\n",
              "      filter: drop-shadow(0px 1px 2px rgba(0, 0, 0, 0.3));\n",
              "      fill: #FFFFFF;\n",
              "    }\n",
              "  </style>\n",
              "\n",
              "    <script>\n",
              "      const buttonEl =\n",
              "        document.querySelector('#df-0359bb75-69d4-4171-b808-a34461f6c2bf button.colab-df-convert');\n",
              "      buttonEl.style.display =\n",
              "        google.colab.kernel.accessAllowed ? 'block' : 'none';\n",
              "\n",
              "      async function convertToInteractive(key) {\n",
              "        const element = document.querySelector('#df-0359bb75-69d4-4171-b808-a34461f6c2bf');\n",
              "        const dataTable =\n",
              "          await google.colab.kernel.invokeFunction('convertToInteractive',\n",
              "                                                    [key], {});\n",
              "        if (!dataTable) return;\n",
              "\n",
              "        const docLinkHtml = 'Like what you see? Visit the ' +\n",
              "          '<a target=\"_blank\" href=https://colab.research.google.com/notebooks/data_table.ipynb>data table notebook</a>'\n",
              "          + ' to learn more about interactive tables.';\n",
              "        element.innerHTML = '';\n",
              "        dataTable['output_type'] = 'display_data';\n",
              "        await google.colab.output.renderOutput(dataTable, element);\n",
              "        const docLink = document.createElement('div');\n",
              "        docLink.innerHTML = docLinkHtml;\n",
              "        element.appendChild(docLink);\n",
              "      }\n",
              "    </script>\n",
              "  </div>\n",
              "\n",
              "\n",
              "<div id=\"df-416682db-286f-470d-b8ee-c06dc6e34bcc\">\n",
              "  <button class=\"colab-df-quickchart\" onclick=\"quickchart('df-416682db-286f-470d-b8ee-c06dc6e34bcc')\"\n",
              "            title=\"Suggest charts\"\n",
              "            style=\"display:none;\">\n",
              "\n",
              "<svg xmlns=\"http://www.w3.org/2000/svg\" height=\"24px\"viewBox=\"0 0 24 24\"\n",
              "     width=\"24px\">\n",
              "    <g>\n",
              "        <path d=\"M19 3H5c-1.1 0-2 .9-2 2v14c0 1.1.9 2 2 2h14c1.1 0 2-.9 2-2V5c0-1.1-.9-2-2-2zM9 17H7v-7h2v7zm4 0h-2V7h2v10zm4 0h-2v-4h2v4z\"/>\n",
              "    </g>\n",
              "</svg>\n",
              "  </button>\n",
              "\n",
              "<style>\n",
              "  .colab-df-quickchart {\n",
              "      --bg-color: #E8F0FE;\n",
              "      --fill-color: #1967D2;\n",
              "      --hover-bg-color: #E2EBFA;\n",
              "      --hover-fill-color: #174EA6;\n",
              "      --disabled-fill-color: #AAA;\n",
              "      --disabled-bg-color: #DDD;\n",
              "  }\n",
              "\n",
              "  [theme=dark] .colab-df-quickchart {\n",
              "      --bg-color: #3B4455;\n",
              "      --fill-color: #D2E3FC;\n",
              "      --hover-bg-color: #434B5C;\n",
              "      --hover-fill-color: #FFFFFF;\n",
              "      --disabled-bg-color: #3B4455;\n",
              "      --disabled-fill-color: #666;\n",
              "  }\n",
              "\n",
              "  .colab-df-quickchart {\n",
              "    background-color: var(--bg-color);\n",
              "    border: none;\n",
              "    border-radius: 50%;\n",
              "    cursor: pointer;\n",
              "    display: none;\n",
              "    fill: var(--fill-color);\n",
              "    height: 32px;\n",
              "    padding: 0;\n",
              "    width: 32px;\n",
              "  }\n",
              "\n",
              "  .colab-df-quickchart:hover {\n",
              "    background-color: var(--hover-bg-color);\n",
              "    box-shadow: 0 1px 2px rgba(60, 64, 67, 0.3), 0 1px 3px 1px rgba(60, 64, 67, 0.15);\n",
              "    fill: var(--button-hover-fill-color);\n",
              "  }\n",
              "\n",
              "  .colab-df-quickchart-complete:disabled,\n",
              "  .colab-df-quickchart-complete:disabled:hover {\n",
              "    background-color: var(--disabled-bg-color);\n",
              "    fill: var(--disabled-fill-color);\n",
              "    box-shadow: none;\n",
              "  }\n",
              "\n",
              "  .colab-df-spinner {\n",
              "    border: 2px solid var(--fill-color);\n",
              "    border-color: transparent;\n",
              "    border-bottom-color: var(--fill-color);\n",
              "    animation:\n",
              "      spin 1s steps(1) infinite;\n",
              "  }\n",
              "\n",
              "  @keyframes spin {\n",
              "    0% {\n",
              "      border-color: transparent;\n",
              "      border-bottom-color: var(--fill-color);\n",
              "      border-left-color: var(--fill-color);\n",
              "    }\n",
              "    20% {\n",
              "      border-color: transparent;\n",
              "      border-left-color: var(--fill-color);\n",
              "      border-top-color: var(--fill-color);\n",
              "    }\n",
              "    30% {\n",
              "      border-color: transparent;\n",
              "      border-left-color: var(--fill-color);\n",
              "      border-top-color: var(--fill-color);\n",
              "      border-right-color: var(--fill-color);\n",
              "    }\n",
              "    40% {\n",
              "      border-color: transparent;\n",
              "      border-right-color: var(--fill-color);\n",
              "      border-top-color: var(--fill-color);\n",
              "    }\n",
              "    60% {\n",
              "      border-color: transparent;\n",
              "      border-right-color: var(--fill-color);\n",
              "    }\n",
              "    80% {\n",
              "      border-color: transparent;\n",
              "      border-right-color: var(--fill-color);\n",
              "      border-bottom-color: var(--fill-color);\n",
              "    }\n",
              "    90% {\n",
              "      border-color: transparent;\n",
              "      border-bottom-color: var(--fill-color);\n",
              "    }\n",
              "  }\n",
              "</style>\n",
              "\n",
              "  <script>\n",
              "    async function quickchart(key) {\n",
              "      const quickchartButtonEl =\n",
              "        document.querySelector('#' + key + ' button');\n",
              "      quickchartButtonEl.disabled = true;  // To prevent multiple clicks.\n",
              "      quickchartButtonEl.classList.add('colab-df-spinner');\n",
              "      try {\n",
              "        const charts = await google.colab.kernel.invokeFunction(\n",
              "            'suggestCharts', [key], {});\n",
              "      } catch (error) {\n",
              "        console.error('Error during call to suggestCharts:', error);\n",
              "      }\n",
              "      quickchartButtonEl.classList.remove('colab-df-spinner');\n",
              "      quickchartButtonEl.classList.add('colab-df-quickchart-complete');\n",
              "    }\n",
              "    (() => {\n",
              "      let quickchartButtonEl =\n",
              "        document.querySelector('#df-416682db-286f-470d-b8ee-c06dc6e34bcc button');\n",
              "      quickchartButtonEl.style.display =\n",
              "        google.colab.kernel.accessAllowed ? 'block' : 'none';\n",
              "    })();\n",
              "  </script>\n",
              "</div>\n",
              "\n",
              "    </div>\n",
              "  </div>\n"
            ],
            "application/vnd.google.colaboratory.intrinsic+json": {
              "type": "dataframe",
              "summary": "{\n  \"name\": \"df\",\n  \"rows\": 2,\n  \"fields\": [\n    {\n      \"column\": \"count\",\n      \"properties\": {\n        \"dtype\": \"number\",\n        \"std\": 68.58935777509511,\n        \"min\": 200125.0,\n        \"max\": 200222.0,\n        \"num_unique_values\": 2,\n        \"samples\": [\n          200125.0,\n          200222.0\n        ],\n        \"semantic_type\": \"\",\n        \"description\": \"\"\n      }\n    },\n    {\n      \"column\": \"mean\",\n      \"properties\": {\n        \"dtype\": \"number\",\n        \"std\": 95.15926107165451,\n        \"min\": 0.22121944641447994,\n        \"max\": 134.7967370393504,\n        \"num_unique_values\": 2,\n        \"samples\": [\n          134.7967370393504,\n          0.22121944641447994\n        ],\n        \"semantic_type\": \"\",\n        \"description\": \"\"\n      }\n    },\n    {\n      \"column\": \"std\",\n      \"properties\": {\n        \"dtype\": \"number\",\n        \"std\": 117.98672120667668,\n        \"min\": 0.7808130064931309,\n        \"max\": 167.63923431690856,\n        \"num_unique_values\": 2,\n        \"samples\": [\n          167.63923431690856,\n          0.7808130064931309\n        ],\n        \"semantic_type\": \"\",\n        \"description\": \"\"\n      }\n    },\n    {\n      \"column\": \"min\",\n      \"properties\": {\n        \"dtype\": \"number\",\n        \"std\": 1.4142135623730951,\n        \"min\": -1.0,\n        \"max\": 1.0,\n        \"num_unique_values\": 2,\n        \"samples\": [\n          1.0,\n          -1.0\n        ],\n        \"semantic_type\": \"\",\n        \"description\": \"\"\n      }\n    },\n    {\n      \"column\": \"25%\",\n      \"properties\": {\n        \"dtype\": \"number\",\n        \"std\": 43.1335136523794,\n        \"min\": 0.0,\n        \"max\": 61.0,\n        \"num_unique_values\": 2,\n        \"samples\": [\n          61.0,\n          0.0\n        ],\n        \"semantic_type\": \"\",\n        \"description\": \"\"\n      }\n    },\n    {\n      \"column\": \"50%\",\n      \"properties\": {\n        \"dtype\": \"number\",\n        \"std\": 77.07463914933368,\n        \"min\": 0.0,\n        \"max\": 109.0,\n        \"num_unique_values\": 2,\n        \"samples\": [\n          109.0,\n          0.0\n        ],\n        \"semantic_type\": \"\",\n        \"description\": \"\"\n      }\n    },\n    {\n      \"column\": \"75%\",\n      \"properties\": {\n        \"dtype\": \"number\",\n        \"std\": 128.69343417595164,\n        \"min\": 1.0,\n        \"max\": 183.0,\n        \"num_unique_values\": 2,\n        \"samples\": [\n          183.0,\n          1.0\n        ],\n        \"semantic_type\": \"\",\n        \"description\": \"\"\n      }\n    },\n    {\n      \"column\": \"max\",\n      \"properties\": {\n        \"dtype\": \"number\",\n        \"std\": 6126.373152200248,\n        \"min\": 1.0,\n        \"max\": 8665.0,\n        \"num_unique_values\": 2,\n        \"samples\": [\n          8665.0,\n          1.0\n        ],\n        \"semantic_type\": \"\",\n        \"description\": \"\"\n      }\n    }\n  ]\n}"
            }
          },
          "metadata": {},
          "execution_count": 15
        }
      ]
    },
    {
      "cell_type": "code",
      "source": [
        "df[df['length'] == 8665]['message'].iloc[0]"
      ],
      "metadata": {
        "id": "VcS_ItJqpl5z",
        "colab": {
          "base_uri": "https://localhost:8080/",
          "height": 174
        },
        "outputId": "63c064de-bf34-4612-eace-91cc16607d19"
      },
      "execution_count": null,
      "outputs": [
        {
          "output_type": "execute_result",
          "data": {
            "text/plain": [
              "'brilliant point point breakdown one other argument making the rounds false argument okay maybe the strikes took place but should have been kept secret and deniable there good reason for dgmo make statements about covert actions except for bjp score political points there are massive number reasons make strike like this public exposes pakistan bluster just tough talk for all their talk being high alert for indian troop movement along the loc after the uri attack they didn even see coming massively boosts morale within the armed forces morale which has been getting steadily lower our bases kept getting hit while they were not allowed take charge the offensive the troops are also being vilified the media national and international while trying control spiral violence srinagar fueled pakistan propaganda machine makes the best use pakistan blunder overreaching and outmaneuvers them pakistan has its hands tied now after making bold statements about defending against indian adventurism aggression and denying that any terrorist camps even exist the region that they have the support their government pakistan has left itself publicly admissible out can either promise retaliation for strikes thereby confirming the existence such terror bases deny the strike and claim ignorance any bases the area releasing statements and evidence the strikes india makes pakistan look weak and incompetent defense while also making the point that pakistan harbors terrorists and uses them proxy war against india manner that exceeds just providing moral and diplomatic support they have claimed the past calls pakistan bluff threats start nuclear conflict their nuclear arsenal while still being very real and implicit threat longer their impenetrable shield striking within pok and then making public india has taken control the escalatory ladden you said earlier out the open for everyone see which leads the next point makes public the strategic shift indian policy dealing with cross border infiltration and terrorism this now means that india controls the play events and that infiltration will actively fought against taking the fight the terror outposts and leaving open the possibility even striking training camps situated further inland this means that india will make pakistan work and pay for every infiltration attempt literally not just pay terms revenge and bloodshed pakistan will need actually spend more time money resources manpower actual defense and surveillance near these bases their terror outposts will have constantly vigilant and more resources dedicated keeping eye out for incoming strikes the future this very different from the past where the outposts had nothing worry about till they crossed the border and their entire focus was offensive not defensive nature points out very little fencing the pakistani side because they never even felt the need defend themselves but that will all change now terrorists will not sleep peacefully their beds they will possibly make more mistakes and every new person recruited keep watch patrol their perimeter potential vulnerability too accidentally leaked info paid informant mole many these will make increasingly expensive and difficult maintain multiple such bases leading demoralized terrorists demoralized pakistani troops demoralized and disillusioned pakistani public pakistan currently damage control mode firing off more propaganda than artillery and trying pooh pooh the stories the strikes indian propaganda but inaccuracies their accounts will begin add and morale will definitely take hit everyone the pakistani side currently denial but that expected ultimately again makes the government look dishonest incompetent and erodes their imaginary moral high ground that they lay claim strengthens the indian public support for the government this definitely well deserved win for the bjp but more importantly makes the indian public lot more unified behind their central government regardless who was power when such action was taken there are certainly plenty who question the narrative and events but there definite surge public approval favor retaliation for uri and the strikes themselves regardless their position the who how where why covert overt bragging courting war etc this demonstrates among other things that the goi proactive that was receptive the outrage about uri across the nation that was willing take stand such attacks indian sovereignty demonstrates india ability operate within the bounds previous agreements and treaties while still taking decisive action defend itself and not being enslaved those treaties pakistan has always played victim when came any border related issue and deny any involvement previous incursions from their side meanwhile india hamstrung restrictive treaties preventing military retaliation for numerous actions carried out pakistan and its proxy fighters till now this deft navigation not altering the loc while striking terrorist camps falls well within the bounds the simla agreement and the charter surgical strikes across loc line with shimla agreement and charter 3026586 html exploring this avenue publicly means that india can now freely continue perform such strikes the future without invoking any backlash from most other nations and getting active support from several now let assume that the strikes took place but the government kept absolutely secret the outcome not making the strikes public knowledge would have been quite disadvantageous the whole india maintains deniability for aggressive action great but pakistan will constantly play the victim anyway portray cross border terrorism domestic rebellion foment unrest and paint india oppressive bully state committing atrocities kashmir very little advantage here while the strike killed handful terrorists and prevented few attacks the near future would fail adequately capitalize that victory other terror outfits and individual members such organisations may remain unaware and unafraid pakistani turf terrorists sleeping soundly before attempting border crossing isn good for indian defense maintaining state combat ready vigilance and tension impossible for more than few days for all but the most highly trained soldiers demoralizes indian troops they would feel abandoned the govt and the people left deal with bloodthirsty militants all themselves without any chance take action and preempt such attacks the indian soldiers continue the only ones who sleep fear with the fatigue constant vigilance making them weaker while the enemy gets stronger indian silence taken for weakness emboldens our enemies india seen soft target home and abroad india loses control the narrative the few who would aware the covert action the other side could later alter the narrative they have done several times the past and claim india committed atrocities and crimes pakistani territory and killed civilians blaming raw and other agencies and using justify further attacks several years the future the context and events this time would have faded from the public mind and india would the diplomatic back foot having either deny the action ever took place and look guilty forced justify such action and remind the public that was retaliation for uri not random unprovoked attack better claim upfront and connect the two events inextricably forever india retaliates for uri massacre today lot better than india denies committing war crimes pok years later when the conspiracy theorists would have had plenty time concoct alternate narrative pakistan would continue have the facade nuclear shield despite successful strike until challenged head publicly pakistan claims would continue hold weight pakistan retains control the escalatory ladder pakistan bluff not called and continues project the image competent military pakistan retains the facade harboring terrorists its soil what terrorists public acknowledgement shift the policy strategic restraint indian public loses faith the government not knowing about any retaliation would mean that the indian public would just have another item list complain about how the government all talk action critics the government perceived restraint would continue make the government look weak and ineffective bjp would crucified the public eye for not taking stronger measures because the public wouldn know about the strike the voice the people would appear have been ignored future governments would unlikely continue the shift strategy reluctance take control the offensive would persist continued veil secrecy would mean that their efforts would unnoticed while the costs and risks such operations would for little political benefit '"
            ],
            "application/vnd.google.colaboratory.intrinsic+json": {
              "type": "string"
            }
          },
          "metadata": {},
          "execution_count": 16
        }
      ]
    },
    {
      "cell_type": "code",
      "source": [
        "df['label'] = df['label'].map({-1: 'negative', 0: 'neutral', 1: 'positive'})"
      ],
      "metadata": {
        "id": "pWUdqQV8ycHv"
      },
      "execution_count": null,
      "outputs": []
    },
    {
      "cell_type": "code",
      "source": [
        "#Checking the null values in the dataset\n",
        "df.isnull().sum()"
      ],
      "metadata": {
        "colab": {
          "base_uri": "https://localhost:8080/"
        },
        "id": "bKV2FEiNzw2v",
        "outputId": "067640c0-f0c1-4e64-c7f7-b38a3715fe1b"
      },
      "execution_count": null,
      "outputs": [
        {
          "output_type": "execute_result",
          "data": {
            "text/plain": [
              "message    104\n",
              "label        7\n",
              "length     104\n",
              "dtype: int64"
            ]
          },
          "metadata": {},
          "execution_count": 18
        }
      ]
    },
    {
      "cell_type": "code",
      "source": [
        "\n",
        "#drop the null values\n",
        "df = df.dropna()"
      ],
      "metadata": {
        "id": "FAWAyqQyz5MR"
      },
      "execution_count": null,
      "outputs": []
    },
    {
      "cell_type": "code",
      "source": [
        "len(df['message'])"
      ],
      "metadata": {
        "colab": {
          "base_uri": "https://localhost:8080/"
        },
        "id": "PHNh8_Ja0TPX",
        "outputId": "143ace45-8ea3-4f33-eb16-b1f886eb745a"
      },
      "execution_count": null,
      "outputs": [
        {
          "output_type": "execute_result",
          "data": {
            "text/plain": [
              "200118"
            ]
          },
          "metadata": {},
          "execution_count": 20
        }
      ]
    },
    {
      "cell_type": "code",
      "source": [
        "#replacing url with string\n",
        "def replace_url(text):\n",
        "  return re.sub('https?:\\/\\/S*|www\\.\\S+', 'URL', text)\n"
      ],
      "metadata": {
        "id": "r7n1eV8c0d_-"
      },
      "execution_count": null,
      "outputs": []
    },
    {
      "cell_type": "code",
      "source": [
        "#removing html\n",
        "def remove_html(text):\n",
        "    return re.sub('<.*?>', '', text)"
      ],
      "metadata": {
        "id": "xPxePmiZ1knY"
      },
      "execution_count": null,
      "outputs": []
    },
    {
      "cell_type": "code",
      "source": [
        "#replacing mentions with string user\n",
        "def replace_mentions(text):\n",
        "    return re.sub('@\\S*','user',text,flags=re.IGNORECASE)"
      ],
      "metadata": {
        "id": "kGvf844a2DXY"
      },
      "execution_count": null,
      "outputs": []
    },
    {
      "cell_type": "code",
      "source": [
        "#replacing number with string number\n",
        "def replace_num(text):\n",
        "    return re.sub('^[+-]*?\\d{1,3}[- ]*?\\d{1,10}|\\d{10}','NUMBER',text)"
      ],
      "metadata": {
        "id": "0Mrdj9nD2UY9"
      },
      "execution_count": null,
      "outputs": []
    },
    {
      "cell_type": "code",
      "source": [
        "def replace_heart(text):\n",
        "  return re.sub('<3', 'HEART', text)"
      ],
      "metadata": {
        "id": "IK_6--1M3FYg"
      },
      "execution_count": null,
      "outputs": []
    },
    {
      "cell_type": "code",
      "source": [
        "def remove_stopwords(text):\n",
        "  text= ' '.join([word for word in text.split() if word not in stopwords.words('english')])\n",
        "  return text"
      ],
      "metadata": {
        "id": "_YVevuab3crZ"
      },
      "execution_count": null,
      "outputs": []
    },
    {
      "cell_type": "code",
      "source": [
        "def remove_punctuations(text):\n",
        "    text=''.join([word for word in text if word not in string.punctuation])\n",
        "    return text"
      ],
      "metadata": {
        "id": "SpXoopEi3rz5"
      },
      "execution_count": null,
      "outputs": []
    },
    {
      "cell_type": "code",
      "source": [
        "def remove_alphanumeric(text):\n",
        "    return re.sub('\\w*\\d+\\w*','',text)"
      ],
      "metadata": {
        "id": "dhHfHuxs3x3z"
      },
      "execution_count": null,
      "outputs": []
    },
    {
      "cell_type": "code",
      "source": [
        "#reducing words to their root form\n",
        "def lemmatization(text):\n",
        "  lm = WordNetLemmatizer()\n",
        "  text= ' '.join([lm.lemmatize(word, pos='v') for word in text.split()])\n",
        "  return text"
      ],
      "metadata": {
        "id": "rY4XE8Rn4Efb"
      },
      "execution_count": null,
      "outputs": []
    },
    {
      "cell_type": "code",
      "source": [
        "def clean_text(text):\n",
        "  text = str(text).lower()\n",
        "  text =replace_url(text)\n",
        "  text = remove_punctuations(text)\n",
        "  text = remove_alphanumeric(text)\n",
        "  text = replace_heart(text)\n",
        "  text = remove_stopwords(text)\n",
        "  text = remove_html(text)\n",
        "  text = replace_mentions(text)\n",
        "  text = lemmatization(text)\n",
        "  text = replace_num(text)\n",
        "  return text\n",
        "\n"
      ],
      "metadata": {
        "id": "GqFZOLCX4s6h"
      },
      "execution_count": null,
      "outputs": []
    },
    {
      "cell_type": "code",
      "source": [
        "X = df['message'].values\n",
        "y = pd.get_dummies(df['label']).values\n",
        "X_train, X_test, y_train, y_test = train_test_split(X, y, test_size=0.33)"
      ],
      "metadata": {
        "id": "oogiGUW69Ol2"
      },
      "execution_count": null,
      "outputs": []
    },
    {
      "cell_type": "code",
      "source": [
        "import subprocess\n",
        "\n",
        "try:\n",
        "    nltk.data.find('wordnet.zip')\n",
        "except:\n",
        "    nltk.download('wordnet', download_dir='/kaggle/working/')\n",
        "    command = \"unzip /kaggle/working/corpora/wordnet.zip -d /kaggle/working/corpora\"\n",
        "    subprocess.run(command.split())\n",
        "    nltk.data.path.append('/kaggle/working/')"
      ],
      "metadata": {
        "colab": {
          "base_uri": "https://localhost:8080/"
        },
        "id": "7l3bhY2fGRbL",
        "outputId": "c709e0a3-ab76-4716-d25c-172c83b3aed1"
      },
      "execution_count": null,
      "outputs": [
        {
          "output_type": "stream",
          "name": "stderr",
          "text": [
            "[nltk_data] Downloading package wordnet to /kaggle/working/...\n"
          ]
        }
      ]
    },
    {
      "cell_type": "code",
      "source": [
        "from nltk.corpus import wordnet\n",
        "df['message'] = df['message'].apply(clean_text)"
      ],
      "metadata": {
        "id": "1MIwD09jIK63"
      },
      "execution_count": null,
      "outputs": []
    },
    {
      "cell_type": "markdown",
      "source": [],
      "metadata": {
        "id": "mrW7vg45fYJa"
      }
    },
    {
      "cell_type": "code",
      "source": [
        "df['message']"
      ],
      "metadata": {
        "colab": {
          "base_uri": "https://localhost:8080/"
        },
        "id": "01ZszTATKgpn",
        "outputId": "38e3a3c4-9769-436a-c3cb-f040c3c3e0db"
      },
      "execution_count": null,
      "outputs": [
        {
          "output_type": "execute_result",
          "data": {
            "text/plain": [
              "0         modi promise “minimum government maximum gover...\n",
              "1                    talk nonsense continue drama vote modi\n",
              "2         say vote modi welcome bjp tell rahul main camp...\n",
              "3         ask supporters prefix chowkidar name modi grea...\n",
              "4         answer among powerful world leader today trump...\n",
              "                                ...                        \n",
              "200224                                                jesus\n",
              "200225    kya bhai pure saal chutiya banaya modi aur jab...\n",
              "200226                 downvote karna tha par upvote hogaya\n",
              "200227                                            haha nice\n",
              "200228                              facebook work bjp’ cell\n",
              "Name: message, Length: 200118, dtype: object"
            ]
          },
          "metadata": {},
          "execution_count": 39
        }
      ]
    },
    {
      "cell_type": "code",
      "source": [],
      "metadata": {
        "id": "qDynXAK0Lojx"
      },
      "execution_count": null,
      "outputs": []
    },
    {
      "cell_type": "code",
      "source": [
        "X = df['message'].values\n",
        "y =pd.get_dummies(df['label']).values\n",
        "X_train, X_test, y_train, y_test = train_test_split(X, y, test_size=0.33)"
      ],
      "metadata": {
        "id": "OylqtcFHL97U"
      },
      "execution_count": null,
      "outputs": []
    },
    {
      "cell_type": "code",
      "source": [],
      "metadata": {
        "id": "Uu4FUu2tgKS7"
      },
      "execution_count": null,
      "outputs": []
    },
    {
      "cell_type": "code",
      "source": [
        "X_train.shape"
      ],
      "metadata": {
        "colab": {
          "base_uri": "https://localhost:8080/"
        },
        "id": "HZEyVcKvgOQS",
        "outputId": "59e1dc8f-cde1-4637-a048-469f2987ca34"
      },
      "execution_count": null,
      "outputs": [
        {
          "output_type": "execute_result",
          "data": {
            "text/plain": [
              "(134079,)"
            ]
          },
          "metadata": {},
          "execution_count": 41
        }
      ]
    },
    {
      "cell_type": "code",
      "source": [],
      "metadata": {
        "id": "1jSfKDvEgRSB"
      },
      "execution_count": null,
      "outputs": []
    },
    {
      "cell_type": "code",
      "source": [
        "Max_vocab_size = 50000\n",
        "tokenizer = Tokenizer(num_words = Max_vocab_size)\n",
        "tokenizer.fit_on_texts(X_train)\n",
        "sequence_Xtrain = tokenizer.texts_to_sequences(X_train)\n",
        "sequence_Xtest = tokenizer.texts_to_sequences(X_test)"
      ],
      "metadata": {
        "id": "wDWlCPfrgURx"
      },
      "execution_count": null,
      "outputs": []
    },
    {
      "cell_type": "code",
      "source": [
        "V= len(tokenizer.word_index)\n",
        "tokenizer.word_index"
      ],
      "metadata": {
        "colab": {
          "base_uri": "https://localhost:8080/"
        },
        "id": "EqZt4mIEguaR",
        "outputId": "722b9f5e-a075-4bcf-a1c6-f8af9d93ec14"
      },
      "execution_count": null,
      "outputs": [
        {
          "output_type": "execute_result",
          "data": {
            "text/plain": [
              "{'modi': 1,\n",
              " 'india': 2,\n",
              " 'say': 3,\n",
              " 'people': 4,\n",
              " 'bjp': 5,\n",
              " 'like': 6,\n",
              " 'get': 7,\n",
              " 'give': 8,\n",
              " 'congress': 9,\n",
              " 'make': 10,\n",
              " 'vote': 11,\n",
              " 'one': 12,\n",
              " 'time': 13,\n",
              " 'narendra': 14,\n",
              " 'take': 15,\n",
              " 'know': 16,\n",
              " 'govt': 17,\n",
              " 'want': 18,\n",
              " 'come': 19,\n",
              " 'think': 20,\n",
              " 'even': 21,\n",
              " 'country': 22,\n",
              " 'see': 23,\n",
              " 'also': 24,\n",
              " 'dont': 25,\n",
              " 'indian': 26,\n",
              " 'years': 27,\n",
              " 'party': 28,\n",
              " 'good': 29,\n",
              " 'would': 30,\n",
              " 'election': 31,\n",
              " 'go': 32,\n",
              " 'work': 33,\n",
              " 'modis': 34,\n",
              " 'government': 35,\n",
              " 'rahul': 36,\n",
              " 'need': 37,\n",
              " 'nation': 38,\n",
              " 'power': 39,\n",
              " 'minister': 40,\n",
              " 'support': 41,\n",
              " 'ask': 42,\n",
              " 'pakistan': 43,\n",
              " 'money': 44,\n",
              " 'use': 45,\n",
              " 'gandhi': 46,\n",
              " 'win': 47,\n",
              " 'credit': 48,\n",
              " 'right': 49,\n",
              " 'hai': 50,\n",
              " 'back': 51,\n",
              " 'do': 52,\n",
              " 'become': 53,\n",
              " 'every': 54,\n",
              " 'show': 55,\n",
              " 'many': 56,\n",
              " 'much': 57,\n",
              " 'space': 58,\n",
              " 'never': 59,\n",
              " 'job': 60,\n",
              " 'call': 61,\n",
              " 'media': 62,\n",
              " 'new': 63,\n",
              " 'well': 64,\n",
              " 'elections': 65,\n",
              " 'prime': 66,\n",
              " 'live': 67,\n",
              " 'question': 68,\n",
              " 'sir': 69,\n",
              " 'promise': 70,\n",
              " 'state': 71,\n",
              " 'still': 72,\n",
              " 'look': 73,\n",
              " 'talk': 74,\n",
              " 'happen': 75,\n",
              " 'please': 76,\n",
              " 'world': 77,\n",
              " 'way': 78,\n",
              " 'news': 79,\n",
              " 'first': 80,\n",
              " 'last': 81,\n",
              " 'great': 82,\n",
              " 'let': 83,\n",
              " 'try': 84,\n",
              " 'opposition': 85,\n",
              " 'political': 86,\n",
              " 'start': 87,\n",
              " 'anti': 88,\n",
              " 'today': 89,\n",
              " 'via': 90,\n",
              " 'tell': 91,\n",
              " 'may': 92,\n",
              " 'thank': 93,\n",
              " 'best': 94,\n",
              " 'better': 95,\n",
              " 'poor': 96,\n",
              " 'chowkidar': 97,\n",
              " 'keep': 98,\n",
              " 'man': 99,\n",
              " 'name': 100,\n",
              " 'leader': 101,\n",
              " 'day': 102,\n",
              " 'address': 103,\n",
              " 'guy': 104,\n",
              " 'mean': 105,\n",
              " 'issue': 106,\n",
              " 'stop': 107,\n",
              " 'change': 108,\n",
              " 'satellite': 109,\n",
              " 'drdo': 110,\n",
              " 'seat': 111,\n",
              " 'lose': 112,\n",
              " 'really': 113,\n",
              " 'nothing': 114,\n",
              " 'nehru': 115,\n",
              " 'thing': 116,\n",
              " 'could': 117,\n",
              " 'family': 118,\n",
              " 'watch': 119,\n",
              " 'always': 120,\n",
              " 'scheme': 121,\n",
              " 'next': 122,\n",
              " 'scientists': 123,\n",
              " 'nirav': 124,\n",
              " 'must': 125,\n",
              " 'strike': 126,\n",
              " 'help': 127,\n",
              " 'campaign': 128,\n",
              " 'national': 129,\n",
              " 'love': 130,\n",
              " 'rule': 131,\n",
              " 'bring': 132,\n",
              " 'understand': 133,\n",
              " 'post': 134,\n",
              " '’': 135,\n",
              " 'indians': 136,\n",
              " 'another': 137,\n",
              " 'anything': 138,\n",
              " 'yes': 139,\n",
              " 'leave': 140,\n",
              " 'politics': 141,\n",
              " 'big': 142,\n",
              " 'lot': 143,\n",
              " 'believe': 144,\n",
              " 'attack': 145,\n",
              " 'feel': 146,\n",
              " 'since': 147,\n",
              " 'read': 148,\n",
              " 'speak': 149,\n",
              " 'cant': 150,\n",
              " 'mission': 151,\n",
              " 'hate': 152,\n",
              " 'things': 153,\n",
              " 'reason': 154,\n",
              " 'test': 155,\n",
              " 'fight': 156,\n",
              " 'modi’': 157,\n",
              " 'free': 158,\n",
              " 'public': 159,\n",
              " 'team': 160,\n",
              " 'tweet': 161,\n",
              " 'announce': 162,\n",
              " 'already': 163,\n",
              " 'upa': 164,\n",
              " 'bank': 165,\n",
              " 'person': 166,\n",
              " 'without': 167,\n",
              " 'proud': 168,\n",
              " 'create': 169,\n",
              " 'development': 170,\n",
              " 'hindu': 171,\n",
              " 'year': 172,\n",
              " 'something': 173,\n",
              " 'run': 174,\n",
              " 'namo': 175,\n",
              " 'thats': 176,\n",
              " 'shah': 177,\n",
              " 'force': 178,\n",
              " 'etc': 179,\n",
              " 'point': 180,\n",
              " 'sure': 181,\n",
              " 'fake': 182,\n",
              " 'find': 183,\n",
              " 'case': 184,\n",
              " 'contest': 185,\n",
              " 'leaders': 186,\n",
              " 'real': 187,\n",
              " 'shoot': 188,\n",
              " 'didnt': 189,\n",
              " 'corruption': 190,\n",
              " 'wait': 191,\n",
              " 'hope': 192,\n",
              " 'jai': 193,\n",
              " 'per': 194,\n",
              " 'true': 195,\n",
              " 'pay': 196,\n",
              " 'put': 197,\n",
              " 'lie': 198,\n",
              " 'fail': 199,\n",
              " 'follow': 200,\n",
              " 'crore': 201,\n",
              " 'wrong': 202,\n",
              " 'kill': 203,\n",
              " 'rally': 204,\n",
              " 'everyone': 205,\n",
              " 'seem': 206,\n",
              " 'everything': 207,\n",
              " 'ever': 208,\n",
              " 'two': 209,\n",
              " 'face': 210,\n",
              " 'stand': 211,\n",
              " 'claim': 212,\n",
              " 'muslims': 213,\n",
              " 'plan': 214,\n",
              " 'account': 215,\n",
              " 'blame': 216,\n",
              " 'speech': 217,\n",
              " 'missile': 218,\n",
              " 'long': 219,\n",
              " 'life': 220,\n",
              " 'corrupt': 221,\n",
              " 'fuck': 222,\n",
              " 'tax': 223,\n",
              " 'asat': 224,\n",
              " 'doesnt': 225,\n",
              " 'bad': 226,\n",
              " 'hand': 227,\n",
              " 'lead': 228,\n",
              " 'achievement': 229,\n",
              " 'economy': 230,\n",
              " 'play': 231,\n",
              " 'answer': 232,\n",
              " 'word': 233,\n",
              " 'fool': 234,\n",
              " 'bhi': 235,\n",
              " 'isro': 236,\n",
              " 'term': 237,\n",
              " 'lakh': 238,\n",
              " 'place': 239,\n",
              " 'pappu': 240,\n",
              " 'shakti': 241,\n",
              " 'destroy': 242,\n",
              " 'hear': 243,\n",
              " 'air': 244,\n",
              " 'away': 245,\n",
              " 'due': 246,\n",
              " 'interview': 247,\n",
              " 'part': 248,\n",
              " 'days': 249,\n",
              " 'strong': 250,\n",
              " 'write': 251,\n",
              " 'army': 252,\n",
              " 'anyone': 253,\n",
              " 'court': 254,\n",
              " 'save': 255,\n",
              " 'scam': 256,\n",
              " 'someone': 257,\n",
              " 'forget': 258,\n",
              " 'pak': 259,\n",
              " 'respect': 260,\n",
              " 'join': 261,\n",
              " 'china': 262,\n",
              " 'actually': 263,\n",
              " 'enough': 264,\n",
              " 'full': 265,\n",
              " 'build': 266,\n",
              " 'indias': 267,\n",
              " 'expect': 268,\n",
              " 'report': 269,\n",
              " 'poll': 270,\n",
              " 'video': 271,\n",
              " 'mind': 272,\n",
              " 'hard': 273,\n",
              " 'don’': 274,\n",
              " 'rss': 275,\n",
              " 'problem': 276,\n",
              " 'interest': 277,\n",
              " 'matter': 278,\n",
              " 'else': 279,\n",
              " 'ppl': 280,\n",
              " 'bhakts': 281,\n",
              " 'muslim': 282,\n",
              " 'chor': 283,\n",
              " 'launch': 284,\n",
              " 'meet': 285,\n",
              " 'bharat': 286,\n",
              " 'high': 287,\n",
              " 'whole': 288,\n",
              " 'instead': 289,\n",
              " 'democracy': 290,\n",
              " 'end': 291,\n",
              " 'share': 292,\n",
              " 'care': 293,\n",
              " 'comment': 294,\n",
              " 'prove': 295,\n",
              " 'others': 296,\n",
              " 'delhi': 297,\n",
              " 'aap': 298,\n",
              " 'act': 299,\n",
              " 'fact': 300,\n",
              " 'war': 301,\n",
              " 'gujarat': 302,\n",
              " 'agree': 303,\n",
              " 'security': 304,\n",
              " 'shit': 305,\n",
              " 'till': 306,\n",
              " 'god': 307,\n",
              " 'allow': 308,\n",
              " 'surgical': 309,\n",
              " 'loan': 310,\n",
              " 'action': 311,\n",
              " 'chief': 312,\n",
              " 'remember': 313,\n",
              " 'future': 314,\n",
              " 'singh': 315,\n",
              " 'movie': 316,\n",
              " 'candidate': 317,\n",
              " 'around': 318,\n",
              " 'important': 319,\n",
              " 'happy': 320,\n",
              " 'send': 321,\n",
              " 'voters': 322,\n",
              " 'hindus': 323,\n",
              " 'open': 324,\n",
              " 'conduct': 325,\n",
              " 'wish': 326,\n",
              " 'common': 327,\n",
              " 'sell': 328,\n",
              " 'old': 329,\n",
              " 'channel': 330,\n",
              " 'result': 331,\n",
              " 'announcement': 332,\n",
              " 'turn': 333,\n",
              " 'sabha': 334,\n",
              " 'far': 335,\n",
              " 'dear': 336,\n",
              " 'project': 337,\n",
              " 'least': 338,\n",
              " 'varanasi': 339,\n",
              " 'cong': 340,\n",
              " 'app': 341,\n",
              " 'congratulations': 342,\n",
              " 'set': 343,\n",
              " 'majority': 344,\n",
              " 'release': 345,\n",
              " 'black': 346,\n",
              " 'number': 347,\n",
              " 'success': 348,\n",
              " 'amit': 349,\n",
              " 'leadership': 350,\n",
              " 'level': 351,\n",
              " 'shame': 352,\n",
              " 'wont': 353,\n",
              " 'might': 354,\n",
              " 'different': 355,\n",
              " 'side': 356,\n",
              " 'move': 357,\n",
              " 'defeat': 358,\n",
              " 'entire': 359,\n",
              " 'sarkar': 360,\n",
              " 'loot': 361,\n",
              " 'proof': 362,\n",
              " 'lok': 363,\n",
              " 'worry': 364,\n",
              " 'farmers': 365,\n",
              " 'increase': 366,\n",
              " 'code': 367,\n",
              " 'fear': 368,\n",
              " 'cannot': 369,\n",
              " 'remove': 370,\n",
              " 'achieve': 371,\n",
              " 'single': 372,\n",
              " 'kind': 373,\n",
              " 'low': 374,\n",
              " 'hold': 375,\n",
              " 'towards': 376,\n",
              " 'modiji': 377,\n",
              " 'shri': 378,\n",
              " 'choose': 379,\n",
              " 'provide': 380,\n",
              " 'clear': 381,\n",
              " 'though': 382,\n",
              " 'top': 383,\n",
              " 'social': 384,\n",
              " 'article': 385,\n",
              " 'possible': 386,\n",
              " 'able': 387,\n",
              " 'fund': 388,\n",
              " 'history': 389,\n",
              " 'yrs': 390,\n",
              " 'yet': 391,\n",
              " 'target': 392,\n",
              " 'income': 393,\n",
              " 'past': 394,\n",
              " 'difference': 395,\n",
              " 'buy': 396,\n",
              " 'huge': 397,\n",
              " 'hind': 398,\n",
              " 'elect': 399,\n",
              " 'base': 400,\n",
              " 'chance': 401,\n",
              " 'poverty': 402,\n",
              " 'trump': 403,\n",
              " 'decide': 404,\n",
              " 'deal': 405,\n",
              " 'kya': 406,\n",
              " 'continue': 407,\n",
              " 'game': 408,\n",
              " 'south': 409,\n",
              " 'bhakt': 410,\n",
              " 'responsible': 411,\n",
              " 'head': 412,\n",
              " 'check': 413,\n",
              " 'women': 414,\n",
              " 'ban': 415,\n",
              " 'agenda': 416,\n",
              " 'benefit': 417,\n",
              " 'biggest': 418,\n",
              " 'clean': 419,\n",
              " 'behind': 420,\n",
              " 'commission': 421,\n",
              " 'message': 422,\n",
              " 'hit': 423,\n",
              " 'bail': 424,\n",
              " 'kashmir': 425,\n",
              " 'line': 426,\n",
              " 'lol': 427,\n",
              " 'reach': 428,\n",
              " 'truth': 429,\n",
              " 'trust': 430,\n",
              " 'second': 431,\n",
              " 'twitter': 432,\n",
              " 'economic': 433,\n",
              " 'list': 434,\n",
              " 'less': 435,\n",
              " 'visit': 436,\n",
              " 'develop': 437,\n",
              " 'learn': 438,\n",
              " 'abuse': 439,\n",
              " 'group': 440,\n",
              " 'include': 441,\n",
              " 'class': 442,\n",
              " 'idea': 443,\n",
              " 'form': 444,\n",
              " 'vision': 445,\n",
              " 'land': 446,\n",
              " 'friends': 447,\n",
              " 'supporters': 448,\n",
              " 'non': 449,\n",
              " 'oppose': 450,\n",
              " 'break': 451,\n",
              " 'soon': 452,\n",
              " 'business': 453,\n",
              " 'deserve': 454,\n",
              " 'wonder': 455,\n",
              " 'policy': 456,\n",
              " 'politicians': 457,\n",
              " 'grow': 458,\n",
              " 'link': 459,\n",
              " 'compare': 460,\n",
              " 'update': 461,\n",
              " 'house': 462,\n",
              " 'order': 463,\n",
              " 'spend': 464,\n",
              " 'system': 465,\n",
              " 'nahi': 466,\n",
              " 'home': 467,\n",
              " 'wave': 468,\n",
              " 'nda': 469,\n",
              " 'reply': 470,\n",
              " 'scientist': 471,\n",
              " 'spread': 472,\n",
              " 'model': 473,\n",
              " 'accept': 474,\n",
              " 'youth': 475,\n",
              " 'statement': 476,\n",
              " 'either': 477,\n",
              " 'antisatellite': 478,\n",
              " 'law': 479,\n",
              " 'decision': 480,\n",
              " 'view': 481,\n",
              " 'president': 482,\n",
              " 'sit': 483,\n",
              " 'terrorists': 484,\n",
              " 'step': 485,\n",
              " 'complete': 486,\n",
              " 'ahead': 487,\n",
              " 'super': 488,\n",
              " 'main': 489,\n",
              " 'terrorist': 490,\n",
              " 'growth': 491,\n",
              " 'source': 492,\n",
              " 'listen': 493,\n",
              " 'lakhs': 494,\n",
              " 'hatred': 495,\n",
              " 'return': 496,\n",
              " 'pass': 497,\n",
              " 'doubt': 498,\n",
              " 'note': 499,\n",
              " 'ready': 500,\n",
              " 'data': 501,\n",
              " 'mention': 502,\n",
              " 'praise': 503,\n",
              " 'five': 504,\n",
              " 'stupid': 505,\n",
              " 'safe': 506,\n",
              " 'press': 507,\n",
              " 'aur': 508,\n",
              " 'jail': 509,\n",
              " 'crores': 510,\n",
              " 'add': 511,\n",
              " 'fan': 512,\n",
              " 'debate': 513,\n",
              " 'propaganda': 514,\n",
              " 'remain': 515,\n",
              " 'sense': 516,\n",
              " 'foreign': 517,\n",
              " 'countries': 518,\n",
              " 'raise': 519,\n",
              " 'consider': 520,\n",
              " 'whatever': 521,\n",
              " 'across': 522,\n",
              " 'religion': 523,\n",
              " 'request': 524,\n",
              " 'self': 525,\n",
              " 'miss': 526,\n",
              " 'indira': 527,\n",
              " 'rest': 528,\n",
              " 'die': 529,\n",
              " 'story': 530,\n",
              " 'raga': 531,\n",
              " 'whether': 532,\n",
              " 'education': 533,\n",
              " 'achievements': 534,\n",
              " 'rather': 535,\n",
              " 'deliver': 536,\n",
              " 'market': 537,\n",
              " 'failure': 538,\n",
              " 'surprise': 539,\n",
              " 'front': 540,\n",
              " 'major': 541,\n",
              " 'educate': 542,\n",
              " 'ticket': 543,\n",
              " 'general': 544,\n",
              " 'control': 545,\n",
              " 'dream': 546,\n",
              " 'within': 547,\n",
              " 'capability': 548,\n",
              " 'reality': 549,\n",
              " 'grind': 550,\n",
              " 'film': 551,\n",
              " 'bhai': 552,\n",
              " 'citizens': 553,\n",
              " 'small': 554,\n",
              " 'unemployment': 555,\n",
              " 'defence': 556,\n",
              " 'stay': 557,\n",
              " 'fall': 558,\n",
              " 'successfully': 559,\n",
              " 'successful': 560,\n",
              " 'opinion': 561,\n",
              " 'deny': 562,\n",
              " 'moment': 563,\n",
              " 'company': 564,\n",
              " 'explain': 565,\n",
              " 'policies': 566,\n",
              " 'blind': 567,\n",
              " 'honest': 568,\n",
              " 'khan': 569,\n",
              " 'biopic': 570,\n",
              " 'ram': 571,\n",
              " 'supporter': 572,\n",
              " 'cause': 573,\n",
              " 'ambani': 574,\n",
              " 'hat': 575,\n",
              " 'declare': 576,\n",
              " 'pls': 577,\n",
              " 'priyanka': 578,\n",
              " 'joke': 579,\n",
              " 'guess': 580,\n",
              " 'gst': 581,\n",
              " 'concern': 582,\n",
              " 'lack': 583,\n",
              " 'rise': 584,\n",
              " 'earlier': 585,\n",
              " 'maybe': 586,\n",
              " 'mallya': 587,\n",
              " 'current': 588,\n",
              " 'price': 589,\n",
              " 'focus': 590,\n",
              " 'middle': 591,\n",
              " 'almost': 592,\n",
              " 'little': 593,\n",
              " 'month': 594,\n",
              " 'pakistani': 595,\n",
              " 'soldier': 596,\n",
              " 'present': 597,\n",
              " 'definitely': 598,\n",
              " 'body': 599,\n",
              " 'hell': 600,\n",
              " 'scar': 601,\n",
              " 'international': 602,\n",
              " 'throw': 603,\n",
              " 'eat': 604,\n",
              " 'facts': 605,\n",
              " 'isnt': 606,\n",
              " 'ensure': 607,\n",
              " 'arnab': 608,\n",
              " 'except': 609,\n",
              " 'book': 610,\n",
              " 'sorry': 611,\n",
              " 'former': 612,\n",
              " 'waste': 613,\n",
              " 'rich': 614,\n",
              " 'ago': 615,\n",
              " 'pulwama': 616,\n",
              " 'otherwise': 617,\n",
              " 'mistake': 618,\n",
              " 'accord': 619,\n",
              " 'amount': 620,\n",
              " 'image': 621,\n",
              " 'peace': 622,\n",
              " 'personal': 623,\n",
              " 'hide': 624,\n",
              " 'probably': 625,\n",
              " 'hain': 626,\n",
              " 'imran': 627,\n",
              " 'gain': 628,\n",
              " 'yogi': 629,\n",
              " 'rafale': 630,\n",
              " 'enjoy': 631,\n",
              " 'balakot': 632,\n",
              " 'kejriwal': 633,\n",
              " 'begin': 634,\n",
              " 'india’': 635,\n",
              " 'courage': 636,\n",
              " 'challenge': 637,\n",
              " 'police': 638,\n",
              " 'hindi': 639,\n",
              " 'expose': 640,\n",
              " 'vijay': 641,\n",
              " 'inc': 642,\n",
              " 'cry': 643,\n",
              " 'together': 644,\n",
              " 'cost': 645,\n",
              " 'seek': 646,\n",
              " 'offer': 647,\n",
              " 'arm': 648,\n",
              " 'earth': 649,\n",
              " 'young': 650,\n",
              " 'mein': 651,\n",
              " 'kar': 652,\n",
              " 'picture': 653,\n",
              " 'pradesh': 654,\n",
              " 'assam': 655,\n",
              " 'suffer': 656,\n",
              " 'situation': 657,\n",
              " 'close': 658,\n",
              " 'language': 659,\n",
              " 'terror': 660,\n",
              " 'course': 661,\n",
              " 'terrorism': 662,\n",
              " 'criticize': 663,\n",
              " 'train': 664,\n",
              " 'constituency': 665,\n",
              " 'saw': 666,\n",
              " 'count': 667,\n",
              " 'father': 668,\n",
              " 'exactly': 669,\n",
              " 'master': 670,\n",
              " 'atleast': 671,\n",
              " 'however': 672,\n",
              " 'record': 673,\n",
              " 'riot': 674,\n",
              " 'gang': 675,\n",
              " 'hes': 676,\n",
              " 'karnataka': 677,\n",
              " 'april': 678,\n",
              " 'serve': 679,\n",
              " 'ignore': 680,\n",
              " 'north': 681,\n",
              " 'logic': 682,\n",
              " 'kumar': 683,\n",
              " 'toh': 684,\n",
              " 'implement': 685,\n",
              " 'office': 686,\n",
              " 'desh': 687,\n",
              " 'forward': 688,\n",
              " 'along': 689,\n",
              " 'march': 690,\n",
              " 'simple': 691,\n",
              " 'mumkin': 692,\n",
              " 'choice': 693,\n",
              " 'nyay': 694,\n",
              " 'months': 695,\n",
              " 'sonia': 696,\n",
              " 'nice': 697,\n",
              " 'dynasty': 698,\n",
              " 'pro': 699,\n",
              " '“': 700,\n",
              " 'thread': 701,\n",
              " 'can’': 702,\n",
              " 'wow': 703,\n",
              " 'nobody': 704,\n",
              " 'correct': 705,\n",
              " 'earn': 706,\n",
              " 'sad': 707,\n",
              " 'program': 708,\n",
              " 'notice': 709,\n",
              " 'edit': 710,\n",
              " 'false': 711,\n",
              " 'loose': 712,\n",
              " 'yeah': 713,\n",
              " 'quite': 714,\n",
              " 'carry': 715,\n",
              " 'technology': 716,\n",
              " 'whats': 717,\n",
              " 'seriously': 718,\n",
              " 'jumla': 719,\n",
              " 'narrative': 720,\n",
              " 'nations': 721,\n",
              " 'society': 722,\n",
              " 'politician': 723,\n",
              " 'worst': 724,\n",
              " 'kid': 725,\n",
              " 'express': 726,\n",
              " 'har': 727,\n",
              " 'freedom': 728,\n",
              " 'among': 729,\n",
              " 'previous': 730,\n",
              " 'file': 731,\n",
              " 'accuse': 732,\n",
              " 'ndtv': 733,\n",
              " 'bite': 734,\n",
              " '₹': 735,\n",
              " 'promote': 736,\n",
              " 'community': 737,\n",
              " 'abt': 738,\n",
              " 'type': 739,\n",
              " 'card': 740,\n",
              " 'divide': 741,\n",
              " 'era': 742,\n",
              " 'hence': 743,\n",
              " 'friend': 744,\n",
              " 'school': 745,\n",
              " 'three': 746,\n",
              " 'fire': 747,\n",
              " 'pretty': 748,\n",
              " 'voice': 749,\n",
              " 'son': 750,\n",
              " 'alliance': 751,\n",
              " 'beat': 752,\n",
              " 'regime': 753,\n",
              " 'kuch': 754,\n",
              " 'relate': 755,\n",
              " 'example': 756,\n",
              " 'death': 757,\n",
              " 'criticise': 758,\n",
              " 'antimodi': 759,\n",
              " 'completely': 760,\n",
              " 'evidence': 761,\n",
              " 'absolutely': 762,\n",
              " 'progress': 763,\n",
              " 'exist': 764,\n",
              " 'clearly': 765,\n",
              " 'protect': 766,\n",
              " 'citizen': 767,\n",
              " 'easy': 768,\n",
              " 'victory': 769,\n",
              " 'water': 770,\n",
              " 'population': 771,\n",
              " 'troll': 772,\n",
              " 'manmohan': 773,\n",
              " 'culture': 774,\n",
              " 'serious': 775,\n",
              " 'bear': 776,\n",
              " 'mother': 777,\n",
              " 'welcome': 778,\n",
              " 'raid': 779,\n",
              " 'didn’': 780,\n",
              " 'age': 781,\n",
              " '\\u2066': 782,\n",
              " 'position': 783,\n",
              " 'london': 784,\n",
              " 'local': 785,\n",
              " 'finally': 786,\n",
              " 'meerut': 787,\n",
              " 'despite': 788,\n",
              " 'bless': 789,\n",
              " 'service': 790,\n",
              " 'involve': 791,\n",
              " 'governance': 792,\n",
              " 'unite': 793,\n",
              " 'arrest': 794,\n",
              " 'orbit': 795,\n",
              " 'cow': 796,\n",
              " 'institutions': 797,\n",
              " 'bias': 798,\n",
              " 'demonetisation': 799,\n",
              " 'busy': 800,\n",
              " 'employment': 801,\n",
              " 'sound': 802,\n",
              " 'journalist': 803,\n",
              " 'problems': 804,\n",
              " 'imagine': 805,\n",
              " 'none': 806,\n",
              " 'gut': 807,\n",
              " 'military': 808,\n",
              " 'food': 809,\n",
              " 'eye': 810,\n",
              " 'plz': 811,\n",
              " 'encyclopedia': 812,\n",
              " 'congratulate': 813,\n",
              " 'detail': 814,\n",
              " 'totally': 815,\n",
              " 'require': 816,\n",
              " 'appreciate': 817,\n",
              " 'hey': 818,\n",
              " 'gonna': 819,\n",
              " 'judge': 820,\n",
              " 'later': 821,\n",
              " 'communal': 822,\n",
              " 'role': 823,\n",
              " 'bar': 824,\n",
              " 'journalists': 825,\n",
              " 'bollywood': 826,\n",
              " 'violate': 827,\n",
              " 'similar': 828,\n",
              " 'brain': 829,\n",
              " 'charge': 830,\n",
              " 'insult': 831,\n",
              " 'advani': 832,\n",
              " 'coz': 833,\n",
              " 'ones': 834,\n",
              " 'parliament': 835,\n",
              " 'improve': 836,\n",
              " 'teach': 837,\n",
              " 'nationalism': 838,\n",
              " 'half': 839,\n",
              " 'favour': 840,\n",
              " 'minimum': 841,\n",
              " 'demand': 842,\n",
              " 'attention': 843,\n",
              " 'worth': 844,\n",
              " 'deposit': 845,\n",
              " 'block': 846,\n",
              " 'btw': 847,\n",
              " 'especially': 848,\n",
              " 'mumbai': 849,\n",
              " 'rajan': 850,\n",
              " 'transfer': 851,\n",
              " 'alone': 852,\n",
              " 'mass': 853,\n",
              " 'value': 854,\n",
              " 'total': 855,\n",
              " 'sign': 856,\n",
              " 'cover': 857,\n",
              " 'secular': 858,\n",
              " 'neither': 859,\n",
              " 'stuff': 860,\n",
              " '…': 861,\n",
              " 'that’': 862,\n",
              " 'doesn’': 863,\n",
              " 'regard': 864,\n",
              " 'cut': 865,\n",
              " 'baar': 866,\n",
              " 'minorities': 867,\n",
              " 'rate': 868,\n",
              " 'republic': 869,\n",
              " 'officer': 870,\n",
              " 'pick': 871,\n",
              " 'overall': 872,\n",
              " 'push': 873,\n",
              " 'families': 874,\n",
              " 'tenure': 875,\n",
              " 'shameless': 876,\n",
              " 'knowledge': 877,\n",
              " 'caste': 878,\n",
              " 'liberals': 879,\n",
              " 'simply': 880,\n",
              " 'permission': 881,\n",
              " 'sleep': 882,\n",
              " 'drama': 883,\n",
              " 'ा': 884,\n",
              " 'worse': 885,\n",
              " 'unlike': 886,\n",
              " 'speeches': 887,\n",
              " 'powerful': 888,\n",
              " 'jee': 889,\n",
              " 'health': 890,\n",
              " 'wah': 891,\n",
              " 'handle': 892,\n",
              " 'travel': 893,\n",
              " 'wing': 894,\n",
              " 'amethi': 895,\n",
              " 'kick': 896,\n",
              " 'information': 897,\n",
              " 'gdp': 898,\n",
              " 'decades': 899,\n",
              " '–': 900,\n",
              " 'reduce': 901,\n",
              " 'mms': 902,\n",
              " 'special': 903,\n",
              " 'official': 904,\n",
              " 'likely': 905,\n",
              " 'heart': 906,\n",
              " 'din': 907,\n",
              " 'human': 908,\n",
              " 'aware': 909,\n",
              " 'justice': 910,\n",
              " 'figure': 911,\n",
              " 'yesterday': 912,\n",
              " 'budget': 913,\n",
              " 'kerala': 914,\n",
              " 'fun': 915,\n",
              " 'appeal': 916,\n",
              " 'star': 917,\n",
              " 'rural': 918,\n",
              " 'match': 919,\n",
              " 'violence': 920,\n",
              " 'border': 921,\n",
              " 'religious': 922,\n",
              " 'counter': 923,\n",
              " 'manage': 924,\n",
              " 'odisha': 925,\n",
              " 'idiot': 926,\n",
              " 'smart': 927,\n",
              " 'weapon': 928,\n",
              " 'adani': 929,\n",
              " 'hindutva': 930,\n",
              " 'belong': 931,\n",
              " 'realise': 932,\n",
              " 'members': 933,\n",
              " 'road': 934,\n",
              " 'direct': 935,\n",
              " 'men': 936,\n",
              " 'directly': 937,\n",
              " 'dare': 938,\n",
              " 'candidates': 939,\n",
              " 'enter': 940,\n",
              " 'response': 941,\n",
              " 'gas': 942,\n",
              " 'highest': 943,\n",
              " 'conference': 944,\n",
              " 'city': 945,\n",
              " 'brother': 946,\n",
              " 'nuclear': 947,\n",
              " 'dead': 948,\n",
              " 'tamil': 949,\n",
              " 'desperate': 950,\n",
              " 'effect': 951,\n",
              " 'sab': 952,\n",
              " 'central': 953,\n",
              " 'threat': 954,\n",
              " 'week': 955,\n",
              " 'burn': 956,\n",
              " 'che': 957,\n",
              " 'jaitley': 958,\n",
              " 'laugh': 959,\n",
              " 'chowkidars': 960,\n",
              " 'apply': 961,\n",
              " 'defend': 962,\n",
              " 'rajasthan': 963,\n",
              " 'loss': 964,\n",
              " 'whose': 965,\n",
              " 'afraid': 966,\n",
              " 'fine': 967,\n",
              " 'constitution': 968,\n",
              " 'bangalore': 969,\n",
              " 'dog': 970,\n",
              " 'option': 971,\n",
              " 'short': 972,\n",
              " 'bro': 973,\n",
              " 'voter': 974,\n",
              " 'experience': 975,\n",
              " 'late': 976,\n",
              " 'bigger': 977,\n",
              " 'haters': 978,\n",
              " 'amaze': 979,\n",
              " 'receive': 980,\n",
              " 'double': 981,\n",
              " 'demonetization': 982,\n",
              " 'catch': 983,\n",
              " 'board': 984,\n",
              " 'nationalist': 985,\n",
              " 'negative': 986,\n",
              " 'tea': 987,\n",
              " 'limit': 988,\n",
              " 'research': 989,\n",
              " 'reject': 990,\n",
              " 'cash': 991,\n",
              " 'fraud': 992,\n",
              " 'centre': 993,\n",
              " 'performance': 994,\n",
              " 'reform': 995,\n",
              " 'drive': 996,\n",
              " 'jis': 997,\n",
              " 'trailer': 998,\n",
              " 'standard': 999,\n",
              " 'minority': 1000,\n",
              " ...}"
            ]
          },
          "metadata": {},
          "execution_count": 52
        }
      ]
    },
    {
      "cell_type": "code",
      "source": [
        "data_train = pad_sequences(sequence_Xtrain)"
      ],
      "metadata": {
        "id": "zpWqGGmuh8Sj"
      },
      "execution_count": null,
      "outputs": []
    },
    {
      "cell_type": "markdown",
      "source": [],
      "metadata": {
        "id": "A93KAj2ii8og"
      }
    },
    {
      "cell_type": "code",
      "source": [
        "T = data_train.shape[1]\n",
        "print (T)"
      ],
      "metadata": {
        "colab": {
          "base_uri": "https://localhost:8080/"
        },
        "id": "iwHNWT6AiOa8",
        "outputId": "3428470c-b0b3-46da-c476-db94423cd4ab"
      },
      "execution_count": null,
      "outputs": [
        {
          "output_type": "stream",
          "name": "stdout",
          "text": [
            "857\n"
          ]
        }
      ]
    },
    {
      "cell_type": "code",
      "source": [
        "data_test = pad_sequences(sequence_Xtest, maxlen=T)"
      ],
      "metadata": {
        "id": "AJAIviwLjGFX"
      },
      "execution_count": null,
      "outputs": []
    },
    {
      "cell_type": "code",
      "source": [],
      "metadata": {
        "id": "ENm6EaVfjbPx"
      },
      "execution_count": null,
      "outputs": []
    },
    {
      "cell_type": "code",
      "source": [
        "data_train.shape"
      ],
      "metadata": {
        "colab": {
          "base_uri": "https://localhost:8080/"
        },
        "id": "_sOL8rGDjTex",
        "outputId": "3647ba56-6533-446a-bf43-05e419c5bbad"
      },
      "execution_count": null,
      "outputs": [
        {
          "output_type": "execute_result",
          "data": {
            "text/plain": [
              "(134079, 857)"
            ]
          },
          "metadata": {},
          "execution_count": 57
        }
      ]
    },
    {
      "cell_type": "code",
      "source": [],
      "metadata": {
        "id": "YojAIv8XjhNq"
      },
      "execution_count": null,
      "outputs": []
    },
    {
      "cell_type": "code",
      "source": [
        "data_test.shape"
      ],
      "metadata": {
        "colab": {
          "base_uri": "https://localhost:8080/"
        },
        "id": "dzxX4dAnjjsa",
        "outputId": "b652a115-da26-4dcd-ad14-c64a69c2974c"
      },
      "execution_count": null,
      "outputs": [
        {
          "output_type": "execute_result",
          "data": {
            "text/plain": [
              "(66039, 857)"
            ]
          },
          "metadata": {},
          "execution_count": 58
        }
      ]
    },
    {
      "cell_type": "code",
      "source": [],
      "metadata": {
        "id": "4svVfte9jljp"
      },
      "execution_count": null,
      "outputs": []
    },
    {
      "cell_type": "code",
      "source": [
        "D=20\n",
        "early_stop = tf.keras.callbacks.EarlyStopping(monitor='val_loss', patience=2)\n",
        "i = Input(shape=(T,))\n",
        "x = Embedding(V+1, D)(i)\n",
        "x = LSTM(128, dropout=(0.2))(x)\n",
        "x = Dense(3, activation='softmax')(x)\n",
        "model = Model(i, x)\n",
        "model.compile(loss='categorical_crossentropy', optimizer='adam', metrics=['accuracy'])\n",
        "history = model.fit(data_train, y_train, epochs=5, batch_size=128, validation_data=(data_test, y_test), callbacks=[early_stop])"
      ],
      "metadata": {
        "colab": {
          "base_uri": "https://localhost:8080/"
        },
        "id": "OihWqasZjqJf",
        "outputId": "639b1d57-fe15-4dc0-e627-ac00b3276779"
      },
      "execution_count": null,
      "outputs": [
        {
          "output_type": "stream",
          "name": "stdout",
          "text": [
            "Epoch 1/5\n",
            "1048/1048 [==============================] - 106s 99ms/step - loss: 0.5426 - accuracy: 0.7851 - val_loss: 0.3668 - val_accuracy: 0.8741\n",
            "Epoch 2/5\n",
            "1048/1048 [==============================] - 68s 65ms/step - loss: 0.3323 - accuracy: 0.8863 - val_loss: 0.3495 - val_accuracy: 0.8803\n",
            "Epoch 3/5\n",
            "1048/1048 [==============================] - 62s 59ms/step - loss: 0.2896 - accuracy: 0.9009 - val_loss: 0.3572 - val_accuracy: 0.8801\n",
            "Epoch 4/5\n",
            "1048/1048 [==============================] - 64s 61ms/step - loss: 0.2625 - accuracy: 0.9116 - val_loss: 0.3685 - val_accuracy: 0.8771\n"
          ]
        }
      ]
    },
    {
      "cell_type": "code",
      "source": [],
      "metadata": {
        "id": "ZBCi0ckQle3D"
      },
      "execution_count": null,
      "outputs": []
    },
    {
      "cell_type": "code",
      "source": [
        "model.summary()"
      ],
      "metadata": {
        "colab": {
          "base_uri": "https://localhost:8080/"
        },
        "id": "amdx7-JkpE70",
        "outputId": "256c941d-c2ea-40c6-825b-30aa152d4afe"
      },
      "execution_count": null,
      "outputs": [
        {
          "output_type": "stream",
          "name": "stdout",
          "text": [
            "Model: \"model_1\"\n",
            "_________________________________________________________________\n",
            " Layer (type)                Output Shape              Param #   \n",
            "=================================================================\n",
            " input_3 (InputLayer)        [(None, 857)]             0         \n",
            "                                                                 \n",
            " embedding_1 (Embedding)     (None, 857, 20)           1870260   \n",
            "                                                                 \n",
            " lstm_1 (LSTM)               (None, 128)               76288     \n",
            "                                                                 \n",
            " dense_1 (Dense)             (None, 3)                 387       \n",
            "                                                                 \n",
            "=================================================================\n",
            "Total params: 1946935 (7.43 MB)\n",
            "Trainable params: 1946935 (7.43 MB)\n",
            "Non-trainable params: 0 (0.00 Byte)\n",
            "_________________________________________________________________\n"
          ]
        }
      ]
    },
    {
      "cell_type": "code",
      "source": [],
      "metadata": {
        "id": "Gw7PdQwNpTDR"
      },
      "execution_count": null,
      "outputs": []
    },
    {
      "cell_type": "code",
      "source": [
        "model.evaluate(data_test, y_test)"
      ],
      "metadata": {
        "colab": {
          "base_uri": "https://localhost:8080/"
        },
        "id": "fLkJfXvYpfYQ",
        "outputId": "3a48a11a-1c91-488a-c7c7-57b11c262942"
      },
      "execution_count": null,
      "outputs": [
        {
          "output_type": "stream",
          "name": "stdout",
          "text": [
            "2064/2064 [==============================] - 28s 13ms/step - loss: 0.3685 - accuracy: 0.8771\n"
          ]
        },
        {
          "output_type": "execute_result",
          "data": {
            "text/plain": [
              "[0.36850860714912415, 0.8770726323127747]"
            ]
          },
          "metadata": {},
          "execution_count": 64
        }
      ]
    },
    {
      "cell_type": "code",
      "source": [],
      "metadata": {
        "id": "afktzKB5pj_p"
      },
      "execution_count": null,
      "outputs": []
    },
    {
      "cell_type": "code",
      "source": [
        "losses= pd.DataFrame(history.history)\n",
        "losses.plot()"
      ],
      "metadata": {
        "colab": {
          "base_uri": "https://localhost:8080/",
          "height": 447
        },
        "id": "Z0dDMvC_pp6v",
        "outputId": "621f33e5-ac1a-45f8-c312-b08a357ab6d8"
      },
      "execution_count": null,
      "outputs": [
        {
          "output_type": "execute_result",
          "data": {
            "text/plain": [
              "<Axes: >"
            ]
          },
          "metadata": {},
          "execution_count": 65
        },
        {
          "output_type": "display_data",
          "data": {
            "text/plain": [
              "<Figure size 640x480 with 1 Axes>"
            ],
            "image/png": "[encoded data removed]"
          },
          "metadata": {}
        }
      ]
    },
    {
      "cell_type": "code",
      "source": [],
      "metadata": {
        "id": "GhI0Koq5pyrt"
      },
      "execution_count": null,
      "outputs": []
    },
    {
      "cell_type": "code",
      "source": [
        "plt.plot(history.history['accuracy'], label='val_acc')\n",
        "plt.plot(history.history['val_accuracy'], label='accuracy')\n",
        "plt.legend()"
      ],
      "metadata": {
        "colab": {
          "base_uri": "https://localhost:8080/",
          "height": 447
        },
        "id": "gTWYTzI1p7K1",
        "outputId": "9321a119-fdf8-4b9e-cb12-38eac757ec7f"
      },
      "execution_count": null,
      "outputs": [
        {
          "output_type": "execute_result",
          "data": {
            "text/plain": [
              "<matplotlib.legend.Legend at 0x7df3c038a4d0>"
            ]
          },
          "metadata": {},
          "execution_count": 66
        },
        {
          "output_type": "display_data",
          "data": {
            "text/plain": [
              "<Figure size 640x480 with 1 Axes>"
            ],
            "image/png": "[encoded data removed]"
          },
          "metadata": {}
        }
      ]
    },
    {
      "cell_type": "code",
      "source": [],
      "metadata": {
        "id": "-xJh0ZJsqULw"
      },
      "execution_count": null,
      "outputs": []
    },
    {
      "cell_type": "code",
      "source": [
        "plt.plot(history.history['loss'], label='val_loss')\n",
        "plt.plot(history.history['val_loss'], label='loss')\n",
        "plt.legend()"
      ],
      "metadata": {
        "colab": {
          "base_uri": "https://localhost:8080/",
          "height": 447
        },
        "id": "1mmeOQlTqWtq",
        "outputId": "7574619b-f203-4681-8866-5516d8efb2b4"
      },
      "execution_count": null,
      "outputs": [
        {
          "output_type": "execute_result",
          "data": {
            "text/plain": [
              "<matplotlib.legend.Legend at 0x7df375139960>"
            ]
          },
          "metadata": {},
          "execution_count": 67
        },
        {
          "output_type": "display_data",
          "data": {
            "text/plain": [
              "<Figure size 640x480 with 1 Axes>"
            ],
            "image/png": "[encoded data removed]"
          },
          "metadata": {}
        }
      ]
    },
    {
      "cell_type": "code",
      "source": [],
      "metadata": {
        "id": "j3gfK7bcqcRq"
      },
      "execution_count": null,
      "outputs": []
    },
    {
      "cell_type": "code",
      "source": [
        "predictions = model.predict(data_test).argmax(axis=1)"
      ],
      "metadata": {
        "colab": {
          "base_uri": "https://localhost:8080/"
        },
        "id": "oM4mWpMmqe33",
        "outputId": "250c68c6-aac1-4ca4-a164-0f0705e320d7"
      },
      "execution_count": null,
      "outputs": [
        {
          "output_type": "stream",
          "name": "stdout",
          "text": [
            "2064/2064 [==============================] - 32s 15ms/step\n"
          ]
        }
      ]
    },
    {
      "cell_type": "code",
      "source": [
        "print (classification_report(y_test.argmax(axis=1), predictions))"
      ],
      "metadata": {
        "colab": {
          "base_uri": "https://localhost:8080/"
        },
        "id": "saF1U419q17V",
        "outputId": "7639722a-ec45-41c2-d7fe-d9bf9d403337"
      },
      "execution_count": null,
      "outputs": [
        {
          "output_type": "stream",
          "name": "stdout",
          "text": [
            "              precision    recall  f1-score   support\n",
            "\n",
            "           0       0.83      0.80      0.82     14456\n",
            "           1       0.89      0.91      0.90     22696\n",
            "           2       0.89      0.89      0.89     28887\n",
            "\n",
            "    accuracy                           0.88     66039\n",
            "   macro avg       0.87      0.87      0.87     66039\n",
            "weighted avg       0.88      0.88      0.88     66039\n",
            "\n"
          ]
        }
      ]
    },
    {
      "cell_type": "code",
      "source": [
        "model.save('model.h5')"
      ],
      "metadata": {
        "id": "dBt0l-WBq-wK"
      },
      "execution_count": null,
      "outputs": []
    },
    {
      "cell_type": "code",
      "source": [],
      "metadata": {
        "id": "YvYiLyJBrWju"
      },
      "execution_count": null,
      "outputs": []
    }
  ]
}